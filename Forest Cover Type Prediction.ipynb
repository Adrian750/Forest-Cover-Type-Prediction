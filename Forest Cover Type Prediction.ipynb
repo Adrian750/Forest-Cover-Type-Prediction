{
 "cells": [
  {
   "cell_type": "code",
   "execution_count": 2,
   "id": "7f1b1454",
   "metadata": {},
   "outputs": [],
   "source": [
    "import numpy as np\n",
    "import pandas as pd\n",
    "import matplotlib.pyplot as plt\n",
    "import seaborn as sns\n",
    "\n",
    "sns.set({\"figure.figsize\":(10,10)})\n",
    "import warnings\n",
    "warnings.filterwarnings(\"ignore\")"
   ]
  },
  {
   "cell_type": "code",
   "execution_count": 3,
   "id": "0520d3a1",
   "metadata": {},
   "outputs": [],
   "source": [
    "frst_cvr = pd.read_csv(r\"C:\\Users\\user\\Videos\\Datasets\\forest-cover-type-prediction\\train.csv\")\n",
    "frst_cvr_test = pd.read_csv(r\"C:\\Users\\user\\Videos\\Datasets\\forest-cover-type-prediction\\test.csv\")"
   ]
  },
  {
   "cell_type": "code",
   "execution_count": 4,
   "id": "6840fb04",
   "metadata": {},
   "outputs": [
    {
     "data": {
      "text/html": [
       "<div>\n",
       "<style scoped>\n",
       "    .dataframe tbody tr th:only-of-type {\n",
       "        vertical-align: middle;\n",
       "    }\n",
       "\n",
       "    .dataframe tbody tr th {\n",
       "        vertical-align: top;\n",
       "    }\n",
       "\n",
       "    .dataframe thead th {\n",
       "        text-align: right;\n",
       "    }\n",
       "</style>\n",
       "<table border=\"1\" class=\"dataframe\">\n",
       "  <thead>\n",
       "    <tr style=\"text-align: right;\">\n",
       "      <th></th>\n",
       "      <th>Id</th>\n",
       "      <th>Elevation</th>\n",
       "      <th>Aspect</th>\n",
       "      <th>Slope</th>\n",
       "      <th>Horizontal_Distance_To_Hydrology</th>\n",
       "      <th>Vertical_Distance_To_Hydrology</th>\n",
       "      <th>Horizontal_Distance_To_Roadways</th>\n",
       "      <th>Hillshade_9am</th>\n",
       "      <th>Hillshade_Noon</th>\n",
       "      <th>Hillshade_3pm</th>\n",
       "      <th>...</th>\n",
       "      <th>Soil_Type32</th>\n",
       "      <th>Soil_Type33</th>\n",
       "      <th>Soil_Type34</th>\n",
       "      <th>Soil_Type35</th>\n",
       "      <th>Soil_Type36</th>\n",
       "      <th>Soil_Type37</th>\n",
       "      <th>Soil_Type38</th>\n",
       "      <th>Soil_Type39</th>\n",
       "      <th>Soil_Type40</th>\n",
       "      <th>Cover_Type</th>\n",
       "    </tr>\n",
       "  </thead>\n",
       "  <tbody>\n",
       "    <tr>\n",
       "      <th>0</th>\n",
       "      <td>1</td>\n",
       "      <td>2596</td>\n",
       "      <td>51</td>\n",
       "      <td>3</td>\n",
       "      <td>258</td>\n",
       "      <td>0</td>\n",
       "      <td>510</td>\n",
       "      <td>221</td>\n",
       "      <td>232</td>\n",
       "      <td>148</td>\n",
       "      <td>...</td>\n",
       "      <td>0</td>\n",
       "      <td>0</td>\n",
       "      <td>0</td>\n",
       "      <td>0</td>\n",
       "      <td>0</td>\n",
       "      <td>0</td>\n",
       "      <td>0</td>\n",
       "      <td>0</td>\n",
       "      <td>0</td>\n",
       "      <td>5</td>\n",
       "    </tr>\n",
       "    <tr>\n",
       "      <th>1</th>\n",
       "      <td>2</td>\n",
       "      <td>2590</td>\n",
       "      <td>56</td>\n",
       "      <td>2</td>\n",
       "      <td>212</td>\n",
       "      <td>-6</td>\n",
       "      <td>390</td>\n",
       "      <td>220</td>\n",
       "      <td>235</td>\n",
       "      <td>151</td>\n",
       "      <td>...</td>\n",
       "      <td>0</td>\n",
       "      <td>0</td>\n",
       "      <td>0</td>\n",
       "      <td>0</td>\n",
       "      <td>0</td>\n",
       "      <td>0</td>\n",
       "      <td>0</td>\n",
       "      <td>0</td>\n",
       "      <td>0</td>\n",
       "      <td>5</td>\n",
       "    </tr>\n",
       "    <tr>\n",
       "      <th>2</th>\n",
       "      <td>3</td>\n",
       "      <td>2804</td>\n",
       "      <td>139</td>\n",
       "      <td>9</td>\n",
       "      <td>268</td>\n",
       "      <td>65</td>\n",
       "      <td>3180</td>\n",
       "      <td>234</td>\n",
       "      <td>238</td>\n",
       "      <td>135</td>\n",
       "      <td>...</td>\n",
       "      <td>0</td>\n",
       "      <td>0</td>\n",
       "      <td>0</td>\n",
       "      <td>0</td>\n",
       "      <td>0</td>\n",
       "      <td>0</td>\n",
       "      <td>0</td>\n",
       "      <td>0</td>\n",
       "      <td>0</td>\n",
       "      <td>2</td>\n",
       "    </tr>\n",
       "    <tr>\n",
       "      <th>3</th>\n",
       "      <td>4</td>\n",
       "      <td>2785</td>\n",
       "      <td>155</td>\n",
       "      <td>18</td>\n",
       "      <td>242</td>\n",
       "      <td>118</td>\n",
       "      <td>3090</td>\n",
       "      <td>238</td>\n",
       "      <td>238</td>\n",
       "      <td>122</td>\n",
       "      <td>...</td>\n",
       "      <td>0</td>\n",
       "      <td>0</td>\n",
       "      <td>0</td>\n",
       "      <td>0</td>\n",
       "      <td>0</td>\n",
       "      <td>0</td>\n",
       "      <td>0</td>\n",
       "      <td>0</td>\n",
       "      <td>0</td>\n",
       "      <td>2</td>\n",
       "    </tr>\n",
       "    <tr>\n",
       "      <th>4</th>\n",
       "      <td>5</td>\n",
       "      <td>2595</td>\n",
       "      <td>45</td>\n",
       "      <td>2</td>\n",
       "      <td>153</td>\n",
       "      <td>-1</td>\n",
       "      <td>391</td>\n",
       "      <td>220</td>\n",
       "      <td>234</td>\n",
       "      <td>150</td>\n",
       "      <td>...</td>\n",
       "      <td>0</td>\n",
       "      <td>0</td>\n",
       "      <td>0</td>\n",
       "      <td>0</td>\n",
       "      <td>0</td>\n",
       "      <td>0</td>\n",
       "      <td>0</td>\n",
       "      <td>0</td>\n",
       "      <td>0</td>\n",
       "      <td>5</td>\n",
       "    </tr>\n",
       "  </tbody>\n",
       "</table>\n",
       "<p>5 rows × 56 columns</p>\n",
       "</div>"
      ],
      "text/plain": [
       "   Id  Elevation  Aspect  Slope  Horizontal_Distance_To_Hydrology  \\\n",
       "0   1       2596      51      3                               258   \n",
       "1   2       2590      56      2                               212   \n",
       "2   3       2804     139      9                               268   \n",
       "3   4       2785     155     18                               242   \n",
       "4   5       2595      45      2                               153   \n",
       "\n",
       "   Vertical_Distance_To_Hydrology  Horizontal_Distance_To_Roadways  \\\n",
       "0                               0                              510   \n",
       "1                              -6                              390   \n",
       "2                              65                             3180   \n",
       "3                             118                             3090   \n",
       "4                              -1                              391   \n",
       "\n",
       "   Hillshade_9am  Hillshade_Noon  Hillshade_3pm  ...  Soil_Type32  \\\n",
       "0            221             232            148  ...            0   \n",
       "1            220             235            151  ...            0   \n",
       "2            234             238            135  ...            0   \n",
       "3            238             238            122  ...            0   \n",
       "4            220             234            150  ...            0   \n",
       "\n",
       "   Soil_Type33  Soil_Type34  Soil_Type35  Soil_Type36  Soil_Type37  \\\n",
       "0            0            0            0            0            0   \n",
       "1            0            0            0            0            0   \n",
       "2            0            0            0            0            0   \n",
       "3            0            0            0            0            0   \n",
       "4            0            0            0            0            0   \n",
       "\n",
       "   Soil_Type38  Soil_Type39  Soil_Type40  Cover_Type  \n",
       "0            0            0            0           5  \n",
       "1            0            0            0           5  \n",
       "2            0            0            0           2  \n",
       "3            0            0            0           2  \n",
       "4            0            0            0           5  \n",
       "\n",
       "[5 rows x 56 columns]"
      ]
     },
     "execution_count": 4,
     "metadata": {},
     "output_type": "execute_result"
    }
   ],
   "source": [
    "frst_cvr.head()"
   ]
  },
  {
   "cell_type": "code",
   "execution_count": 5,
   "id": "0b27d55b",
   "metadata": {},
   "outputs": [
    {
     "data": {
      "text/html": [
       "<div>\n",
       "<style scoped>\n",
       "    .dataframe tbody tr th:only-of-type {\n",
       "        vertical-align: middle;\n",
       "    }\n",
       "\n",
       "    .dataframe tbody tr th {\n",
       "        vertical-align: top;\n",
       "    }\n",
       "\n",
       "    .dataframe thead th {\n",
       "        text-align: right;\n",
       "    }\n",
       "</style>\n",
       "<table border=\"1\" class=\"dataframe\">\n",
       "  <thead>\n",
       "    <tr style=\"text-align: right;\">\n",
       "      <th></th>\n",
       "      <th>Id</th>\n",
       "      <th>Elevation</th>\n",
       "      <th>Aspect</th>\n",
       "      <th>Slope</th>\n",
       "      <th>Horizontal_Distance_To_Hydrology</th>\n",
       "      <th>Vertical_Distance_To_Hydrology</th>\n",
       "      <th>Horizontal_Distance_To_Roadways</th>\n",
       "      <th>Hillshade_9am</th>\n",
       "      <th>Hillshade_Noon</th>\n",
       "      <th>Hillshade_3pm</th>\n",
       "      <th>...</th>\n",
       "      <th>Soil_Type31</th>\n",
       "      <th>Soil_Type32</th>\n",
       "      <th>Soil_Type33</th>\n",
       "      <th>Soil_Type34</th>\n",
       "      <th>Soil_Type35</th>\n",
       "      <th>Soil_Type36</th>\n",
       "      <th>Soil_Type37</th>\n",
       "      <th>Soil_Type38</th>\n",
       "      <th>Soil_Type39</th>\n",
       "      <th>Soil_Type40</th>\n",
       "    </tr>\n",
       "  </thead>\n",
       "  <tbody>\n",
       "    <tr>\n",
       "      <th>0</th>\n",
       "      <td>15121</td>\n",
       "      <td>2680</td>\n",
       "      <td>354</td>\n",
       "      <td>14</td>\n",
       "      <td>0</td>\n",
       "      <td>0</td>\n",
       "      <td>2684</td>\n",
       "      <td>196</td>\n",
       "      <td>214</td>\n",
       "      <td>156</td>\n",
       "      <td>...</td>\n",
       "      <td>0</td>\n",
       "      <td>0</td>\n",
       "      <td>0</td>\n",
       "      <td>0</td>\n",
       "      <td>0</td>\n",
       "      <td>0</td>\n",
       "      <td>0</td>\n",
       "      <td>0</td>\n",
       "      <td>0</td>\n",
       "      <td>0</td>\n",
       "    </tr>\n",
       "    <tr>\n",
       "      <th>1</th>\n",
       "      <td>15122</td>\n",
       "      <td>2683</td>\n",
       "      <td>0</td>\n",
       "      <td>13</td>\n",
       "      <td>0</td>\n",
       "      <td>0</td>\n",
       "      <td>2654</td>\n",
       "      <td>201</td>\n",
       "      <td>216</td>\n",
       "      <td>152</td>\n",
       "      <td>...</td>\n",
       "      <td>0</td>\n",
       "      <td>0</td>\n",
       "      <td>0</td>\n",
       "      <td>0</td>\n",
       "      <td>0</td>\n",
       "      <td>0</td>\n",
       "      <td>0</td>\n",
       "      <td>0</td>\n",
       "      <td>0</td>\n",
       "      <td>0</td>\n",
       "    </tr>\n",
       "    <tr>\n",
       "      <th>2</th>\n",
       "      <td>15123</td>\n",
       "      <td>2713</td>\n",
       "      <td>16</td>\n",
       "      <td>15</td>\n",
       "      <td>0</td>\n",
       "      <td>0</td>\n",
       "      <td>2980</td>\n",
       "      <td>206</td>\n",
       "      <td>208</td>\n",
       "      <td>137</td>\n",
       "      <td>...</td>\n",
       "      <td>0</td>\n",
       "      <td>0</td>\n",
       "      <td>0</td>\n",
       "      <td>0</td>\n",
       "      <td>0</td>\n",
       "      <td>0</td>\n",
       "      <td>0</td>\n",
       "      <td>0</td>\n",
       "      <td>0</td>\n",
       "      <td>0</td>\n",
       "    </tr>\n",
       "    <tr>\n",
       "      <th>3</th>\n",
       "      <td>15124</td>\n",
       "      <td>2709</td>\n",
       "      <td>24</td>\n",
       "      <td>17</td>\n",
       "      <td>0</td>\n",
       "      <td>0</td>\n",
       "      <td>2950</td>\n",
       "      <td>208</td>\n",
       "      <td>201</td>\n",
       "      <td>125</td>\n",
       "      <td>...</td>\n",
       "      <td>0</td>\n",
       "      <td>0</td>\n",
       "      <td>0</td>\n",
       "      <td>0</td>\n",
       "      <td>0</td>\n",
       "      <td>0</td>\n",
       "      <td>0</td>\n",
       "      <td>0</td>\n",
       "      <td>0</td>\n",
       "      <td>0</td>\n",
       "    </tr>\n",
       "    <tr>\n",
       "      <th>4</th>\n",
       "      <td>15125</td>\n",
       "      <td>2706</td>\n",
       "      <td>29</td>\n",
       "      <td>19</td>\n",
       "      <td>0</td>\n",
       "      <td>0</td>\n",
       "      <td>2920</td>\n",
       "      <td>210</td>\n",
       "      <td>195</td>\n",
       "      <td>115</td>\n",
       "      <td>...</td>\n",
       "      <td>0</td>\n",
       "      <td>0</td>\n",
       "      <td>0</td>\n",
       "      <td>0</td>\n",
       "      <td>0</td>\n",
       "      <td>0</td>\n",
       "      <td>0</td>\n",
       "      <td>0</td>\n",
       "      <td>0</td>\n",
       "      <td>0</td>\n",
       "    </tr>\n",
       "  </tbody>\n",
       "</table>\n",
       "<p>5 rows × 55 columns</p>\n",
       "</div>"
      ],
      "text/plain": [
       "      Id  Elevation  Aspect  Slope  Horizontal_Distance_To_Hydrology  \\\n",
       "0  15121       2680     354     14                                 0   \n",
       "1  15122       2683       0     13                                 0   \n",
       "2  15123       2713      16     15                                 0   \n",
       "3  15124       2709      24     17                                 0   \n",
       "4  15125       2706      29     19                                 0   \n",
       "\n",
       "   Vertical_Distance_To_Hydrology  Horizontal_Distance_To_Roadways  \\\n",
       "0                               0                             2684   \n",
       "1                               0                             2654   \n",
       "2                               0                             2980   \n",
       "3                               0                             2950   \n",
       "4                               0                             2920   \n",
       "\n",
       "   Hillshade_9am  Hillshade_Noon  Hillshade_3pm  ...  Soil_Type31  \\\n",
       "0            196             214            156  ...            0   \n",
       "1            201             216            152  ...            0   \n",
       "2            206             208            137  ...            0   \n",
       "3            208             201            125  ...            0   \n",
       "4            210             195            115  ...            0   \n",
       "\n",
       "   Soil_Type32  Soil_Type33  Soil_Type34  Soil_Type35  Soil_Type36  \\\n",
       "0            0            0            0            0            0   \n",
       "1            0            0            0            0            0   \n",
       "2            0            0            0            0            0   \n",
       "3            0            0            0            0            0   \n",
       "4            0            0            0            0            0   \n",
       "\n",
       "   Soil_Type37  Soil_Type38  Soil_Type39  Soil_Type40  \n",
       "0            0            0            0            0  \n",
       "1            0            0            0            0  \n",
       "2            0            0            0            0  \n",
       "3            0            0            0            0  \n",
       "4            0            0            0            0  \n",
       "\n",
       "[5 rows x 55 columns]"
      ]
     },
     "execution_count": 5,
     "metadata": {},
     "output_type": "execute_result"
    }
   ],
   "source": [
    "frst_cvr_test.head()"
   ]
  },
  {
   "cell_type": "code",
   "execution_count": 6,
   "id": "24355527",
   "metadata": {},
   "outputs": [
    {
     "data": {
      "text/plain": [
       "Id                                    0\n",
       "Elevation                             0\n",
       "Aspect                                0\n",
       "Slope                                 0\n",
       "Horizontal_Distance_To_Hydrology      0\n",
       "Vertical_Distance_To_Hydrology        0\n",
       "Horizontal_Distance_To_Roadways       0\n",
       "Hillshade_9am                         0\n",
       "Hillshade_Noon                        0\n",
       "Hillshade_3pm                         0\n",
       "Horizontal_Distance_To_Fire_Points    0\n",
       "Wilderness_Area1                      0\n",
       "Wilderness_Area2                      0\n",
       "Wilderness_Area3                      0\n",
       "Wilderness_Area4                      0\n",
       "Soil_Type1                            0\n",
       "Soil_Type2                            0\n",
       "Soil_Type3                            0\n",
       "Soil_Type4                            0\n",
       "Soil_Type5                            0\n",
       "Soil_Type6                            0\n",
       "Soil_Type7                            0\n",
       "Soil_Type8                            0\n",
       "Soil_Type9                            0\n",
       "Soil_Type10                           0\n",
       "Soil_Type11                           0\n",
       "Soil_Type12                           0\n",
       "Soil_Type13                           0\n",
       "Soil_Type14                           0\n",
       "Soil_Type15                           0\n",
       "Soil_Type16                           0\n",
       "Soil_Type17                           0\n",
       "Soil_Type18                           0\n",
       "Soil_Type19                           0\n",
       "Soil_Type20                           0\n",
       "Soil_Type21                           0\n",
       "Soil_Type22                           0\n",
       "Soil_Type23                           0\n",
       "Soil_Type24                           0\n",
       "Soil_Type25                           0\n",
       "Soil_Type26                           0\n",
       "Soil_Type27                           0\n",
       "Soil_Type28                           0\n",
       "Soil_Type29                           0\n",
       "Soil_Type30                           0\n",
       "Soil_Type31                           0\n",
       "Soil_Type32                           0\n",
       "Soil_Type33                           0\n",
       "Soil_Type34                           0\n",
       "Soil_Type35                           0\n",
       "Soil_Type36                           0\n",
       "Soil_Type37                           0\n",
       "Soil_Type38                           0\n",
       "Soil_Type39                           0\n",
       "Soil_Type40                           0\n",
       "dtype: int64"
      ]
     },
     "execution_count": 6,
     "metadata": {},
     "output_type": "execute_result"
    }
   ],
   "source": [
    "frst_cvr_test.isnull().sum()"
   ]
  },
  {
   "cell_type": "code",
   "execution_count": 7,
   "id": "31d3b593",
   "metadata": {},
   "outputs": [
    {
     "name": "stdout",
     "output_type": "stream",
     "text": [
      "<class 'pandas.core.frame.DataFrame'>\n",
      "RangeIndex: 565892 entries, 0 to 565891\n",
      "Data columns (total 55 columns):\n",
      " #   Column                              Non-Null Count   Dtype\n",
      "---  ------                              --------------   -----\n",
      " 0   Id                                  565892 non-null  int64\n",
      " 1   Elevation                           565892 non-null  int64\n",
      " 2   Aspect                              565892 non-null  int64\n",
      " 3   Slope                               565892 non-null  int64\n",
      " 4   Horizontal_Distance_To_Hydrology    565892 non-null  int64\n",
      " 5   Vertical_Distance_To_Hydrology      565892 non-null  int64\n",
      " 6   Horizontal_Distance_To_Roadways     565892 non-null  int64\n",
      " 7   Hillshade_9am                       565892 non-null  int64\n",
      " 8   Hillshade_Noon                      565892 non-null  int64\n",
      " 9   Hillshade_3pm                       565892 non-null  int64\n",
      " 10  Horizontal_Distance_To_Fire_Points  565892 non-null  int64\n",
      " 11  Wilderness_Area1                    565892 non-null  int64\n",
      " 12  Wilderness_Area2                    565892 non-null  int64\n",
      " 13  Wilderness_Area3                    565892 non-null  int64\n",
      " 14  Wilderness_Area4                    565892 non-null  int64\n",
      " 15  Soil_Type1                          565892 non-null  int64\n",
      " 16  Soil_Type2                          565892 non-null  int64\n",
      " 17  Soil_Type3                          565892 non-null  int64\n",
      " 18  Soil_Type4                          565892 non-null  int64\n",
      " 19  Soil_Type5                          565892 non-null  int64\n",
      " 20  Soil_Type6                          565892 non-null  int64\n",
      " 21  Soil_Type7                          565892 non-null  int64\n",
      " 22  Soil_Type8                          565892 non-null  int64\n",
      " 23  Soil_Type9                          565892 non-null  int64\n",
      " 24  Soil_Type10                         565892 non-null  int64\n",
      " 25  Soil_Type11                         565892 non-null  int64\n",
      " 26  Soil_Type12                         565892 non-null  int64\n",
      " 27  Soil_Type13                         565892 non-null  int64\n",
      " 28  Soil_Type14                         565892 non-null  int64\n",
      " 29  Soil_Type15                         565892 non-null  int64\n",
      " 30  Soil_Type16                         565892 non-null  int64\n",
      " 31  Soil_Type17                         565892 non-null  int64\n",
      " 32  Soil_Type18                         565892 non-null  int64\n",
      " 33  Soil_Type19                         565892 non-null  int64\n",
      " 34  Soil_Type20                         565892 non-null  int64\n",
      " 35  Soil_Type21                         565892 non-null  int64\n",
      " 36  Soil_Type22                         565892 non-null  int64\n",
      " 37  Soil_Type23                         565892 non-null  int64\n",
      " 38  Soil_Type24                         565892 non-null  int64\n",
      " 39  Soil_Type25                         565892 non-null  int64\n",
      " 40  Soil_Type26                         565892 non-null  int64\n",
      " 41  Soil_Type27                         565892 non-null  int64\n",
      " 42  Soil_Type28                         565892 non-null  int64\n",
      " 43  Soil_Type29                         565892 non-null  int64\n",
      " 44  Soil_Type30                         565892 non-null  int64\n",
      " 45  Soil_Type31                         565892 non-null  int64\n",
      " 46  Soil_Type32                         565892 non-null  int64\n",
      " 47  Soil_Type33                         565892 non-null  int64\n",
      " 48  Soil_Type34                         565892 non-null  int64\n",
      " 49  Soil_Type35                         565892 non-null  int64\n",
      " 50  Soil_Type36                         565892 non-null  int64\n",
      " 51  Soil_Type37                         565892 non-null  int64\n",
      " 52  Soil_Type38                         565892 non-null  int64\n",
      " 53  Soil_Type39                         565892 non-null  int64\n",
      " 54  Soil_Type40                         565892 non-null  int64\n",
      "dtypes: int64(55)\n",
      "memory usage: 237.5 MB\n"
     ]
    }
   ],
   "source": [
    "frst_cvr_test.info()"
   ]
  },
  {
   "cell_type": "code",
   "execution_count": 8,
   "id": "773842b1",
   "metadata": {},
   "outputs": [
    {
     "name": "stdout",
     "output_type": "stream",
     "text": [
      "<class 'pandas.core.frame.DataFrame'>\n",
      "RangeIndex: 15120 entries, 0 to 15119\n",
      "Data columns (total 56 columns):\n",
      " #   Column                              Non-Null Count  Dtype\n",
      "---  ------                              --------------  -----\n",
      " 0   Id                                  15120 non-null  int64\n",
      " 1   Elevation                           15120 non-null  int64\n",
      " 2   Aspect                              15120 non-null  int64\n",
      " 3   Slope                               15120 non-null  int64\n",
      " 4   Horizontal_Distance_To_Hydrology    15120 non-null  int64\n",
      " 5   Vertical_Distance_To_Hydrology      15120 non-null  int64\n",
      " 6   Horizontal_Distance_To_Roadways     15120 non-null  int64\n",
      " 7   Hillshade_9am                       15120 non-null  int64\n",
      " 8   Hillshade_Noon                      15120 non-null  int64\n",
      " 9   Hillshade_3pm                       15120 non-null  int64\n",
      " 10  Horizontal_Distance_To_Fire_Points  15120 non-null  int64\n",
      " 11  Wilderness_Area1                    15120 non-null  int64\n",
      " 12  Wilderness_Area2                    15120 non-null  int64\n",
      " 13  Wilderness_Area3                    15120 non-null  int64\n",
      " 14  Wilderness_Area4                    15120 non-null  int64\n",
      " 15  Soil_Type1                          15120 non-null  int64\n",
      " 16  Soil_Type2                          15120 non-null  int64\n",
      " 17  Soil_Type3                          15120 non-null  int64\n",
      " 18  Soil_Type4                          15120 non-null  int64\n",
      " 19  Soil_Type5                          15120 non-null  int64\n",
      " 20  Soil_Type6                          15120 non-null  int64\n",
      " 21  Soil_Type7                          15120 non-null  int64\n",
      " 22  Soil_Type8                          15120 non-null  int64\n",
      " 23  Soil_Type9                          15120 non-null  int64\n",
      " 24  Soil_Type10                         15120 non-null  int64\n",
      " 25  Soil_Type11                         15120 non-null  int64\n",
      " 26  Soil_Type12                         15120 non-null  int64\n",
      " 27  Soil_Type13                         15120 non-null  int64\n",
      " 28  Soil_Type14                         15120 non-null  int64\n",
      " 29  Soil_Type15                         15120 non-null  int64\n",
      " 30  Soil_Type16                         15120 non-null  int64\n",
      " 31  Soil_Type17                         15120 non-null  int64\n",
      " 32  Soil_Type18                         15120 non-null  int64\n",
      " 33  Soil_Type19                         15120 non-null  int64\n",
      " 34  Soil_Type20                         15120 non-null  int64\n",
      " 35  Soil_Type21                         15120 non-null  int64\n",
      " 36  Soil_Type22                         15120 non-null  int64\n",
      " 37  Soil_Type23                         15120 non-null  int64\n",
      " 38  Soil_Type24                         15120 non-null  int64\n",
      " 39  Soil_Type25                         15120 non-null  int64\n",
      " 40  Soil_Type26                         15120 non-null  int64\n",
      " 41  Soil_Type27                         15120 non-null  int64\n",
      " 42  Soil_Type28                         15120 non-null  int64\n",
      " 43  Soil_Type29                         15120 non-null  int64\n",
      " 44  Soil_Type30                         15120 non-null  int64\n",
      " 45  Soil_Type31                         15120 non-null  int64\n",
      " 46  Soil_Type32                         15120 non-null  int64\n",
      " 47  Soil_Type33                         15120 non-null  int64\n",
      " 48  Soil_Type34                         15120 non-null  int64\n",
      " 49  Soil_Type35                         15120 non-null  int64\n",
      " 50  Soil_Type36                         15120 non-null  int64\n",
      " 51  Soil_Type37                         15120 non-null  int64\n",
      " 52  Soil_Type38                         15120 non-null  int64\n",
      " 53  Soil_Type39                         15120 non-null  int64\n",
      " 54  Soil_Type40                         15120 non-null  int64\n",
      " 55  Cover_Type                          15120 non-null  int64\n",
      "dtypes: int64(56)\n",
      "memory usage: 6.5 MB\n"
     ]
    }
   ],
   "source": [
    "frst_cvr.info()"
   ]
  },
  {
   "cell_type": "code",
   "execution_count": 9,
   "id": "091f6858",
   "metadata": {},
   "outputs": [
    {
     "data": {
      "text/html": [
       "<div>\n",
       "<style scoped>\n",
       "    .dataframe tbody tr th:only-of-type {\n",
       "        vertical-align: middle;\n",
       "    }\n",
       "\n",
       "    .dataframe tbody tr th {\n",
       "        vertical-align: top;\n",
       "    }\n",
       "\n",
       "    .dataframe thead th {\n",
       "        text-align: right;\n",
       "    }\n",
       "</style>\n",
       "<table border=\"1\" class=\"dataframe\">\n",
       "  <thead>\n",
       "    <tr style=\"text-align: right;\">\n",
       "      <th></th>\n",
       "      <th>Id</th>\n",
       "      <th>Elevation</th>\n",
       "      <th>Aspect</th>\n",
       "      <th>Slope</th>\n",
       "      <th>Horizontal_Distance_To_Hydrology</th>\n",
       "      <th>Vertical_Distance_To_Hydrology</th>\n",
       "      <th>Horizontal_Distance_To_Roadways</th>\n",
       "      <th>Hillshade_9am</th>\n",
       "      <th>Hillshade_Noon</th>\n",
       "      <th>Hillshade_3pm</th>\n",
       "      <th>...</th>\n",
       "      <th>Soil_Type32</th>\n",
       "      <th>Soil_Type33</th>\n",
       "      <th>Soil_Type34</th>\n",
       "      <th>Soil_Type35</th>\n",
       "      <th>Soil_Type36</th>\n",
       "      <th>Soil_Type37</th>\n",
       "      <th>Soil_Type38</th>\n",
       "      <th>Soil_Type39</th>\n",
       "      <th>Soil_Type40</th>\n",
       "      <th>Cover_Type</th>\n",
       "    </tr>\n",
       "  </thead>\n",
       "  <tbody>\n",
       "    <tr>\n",
       "      <th>count</th>\n",
       "      <td>15120.00000</td>\n",
       "      <td>15120.000000</td>\n",
       "      <td>15120.000000</td>\n",
       "      <td>15120.000000</td>\n",
       "      <td>15120.000000</td>\n",
       "      <td>15120.000000</td>\n",
       "      <td>15120.000000</td>\n",
       "      <td>15120.000000</td>\n",
       "      <td>15120.000000</td>\n",
       "      <td>15120.000000</td>\n",
       "      <td>...</td>\n",
       "      <td>15120.000000</td>\n",
       "      <td>15120.000000</td>\n",
       "      <td>15120.000000</td>\n",
       "      <td>15120.000000</td>\n",
       "      <td>15120.000000</td>\n",
       "      <td>15120.000000</td>\n",
       "      <td>15120.000000</td>\n",
       "      <td>15120.000000</td>\n",
       "      <td>15120.000000</td>\n",
       "      <td>15120.000000</td>\n",
       "    </tr>\n",
       "    <tr>\n",
       "      <th>mean</th>\n",
       "      <td>7560.50000</td>\n",
       "      <td>2749.322553</td>\n",
       "      <td>156.676653</td>\n",
       "      <td>16.501587</td>\n",
       "      <td>227.195701</td>\n",
       "      <td>51.076521</td>\n",
       "      <td>1714.023214</td>\n",
       "      <td>212.704299</td>\n",
       "      <td>218.965608</td>\n",
       "      <td>135.091997</td>\n",
       "      <td>...</td>\n",
       "      <td>0.045635</td>\n",
       "      <td>0.040741</td>\n",
       "      <td>0.001455</td>\n",
       "      <td>0.006746</td>\n",
       "      <td>0.000661</td>\n",
       "      <td>0.002249</td>\n",
       "      <td>0.048148</td>\n",
       "      <td>0.043452</td>\n",
       "      <td>0.030357</td>\n",
       "      <td>4.000000</td>\n",
       "    </tr>\n",
       "    <tr>\n",
       "      <th>std</th>\n",
       "      <td>4364.91237</td>\n",
       "      <td>417.678187</td>\n",
       "      <td>110.085801</td>\n",
       "      <td>8.453927</td>\n",
       "      <td>210.075296</td>\n",
       "      <td>61.239406</td>\n",
       "      <td>1325.066358</td>\n",
       "      <td>30.561287</td>\n",
       "      <td>22.801966</td>\n",
       "      <td>45.895189</td>\n",
       "      <td>...</td>\n",
       "      <td>0.208699</td>\n",
       "      <td>0.197696</td>\n",
       "      <td>0.038118</td>\n",
       "      <td>0.081859</td>\n",
       "      <td>0.025710</td>\n",
       "      <td>0.047368</td>\n",
       "      <td>0.214086</td>\n",
       "      <td>0.203880</td>\n",
       "      <td>0.171574</td>\n",
       "      <td>2.000066</td>\n",
       "    </tr>\n",
       "    <tr>\n",
       "      <th>min</th>\n",
       "      <td>1.00000</td>\n",
       "      <td>1863.000000</td>\n",
       "      <td>0.000000</td>\n",
       "      <td>0.000000</td>\n",
       "      <td>0.000000</td>\n",
       "      <td>-146.000000</td>\n",
       "      <td>0.000000</td>\n",
       "      <td>0.000000</td>\n",
       "      <td>99.000000</td>\n",
       "      <td>0.000000</td>\n",
       "      <td>...</td>\n",
       "      <td>0.000000</td>\n",
       "      <td>0.000000</td>\n",
       "      <td>0.000000</td>\n",
       "      <td>0.000000</td>\n",
       "      <td>0.000000</td>\n",
       "      <td>0.000000</td>\n",
       "      <td>0.000000</td>\n",
       "      <td>0.000000</td>\n",
       "      <td>0.000000</td>\n",
       "      <td>1.000000</td>\n",
       "    </tr>\n",
       "    <tr>\n",
       "      <th>25%</th>\n",
       "      <td>3780.75000</td>\n",
       "      <td>2376.000000</td>\n",
       "      <td>65.000000</td>\n",
       "      <td>10.000000</td>\n",
       "      <td>67.000000</td>\n",
       "      <td>5.000000</td>\n",
       "      <td>764.000000</td>\n",
       "      <td>196.000000</td>\n",
       "      <td>207.000000</td>\n",
       "      <td>106.000000</td>\n",
       "      <td>...</td>\n",
       "      <td>0.000000</td>\n",
       "      <td>0.000000</td>\n",
       "      <td>0.000000</td>\n",
       "      <td>0.000000</td>\n",
       "      <td>0.000000</td>\n",
       "      <td>0.000000</td>\n",
       "      <td>0.000000</td>\n",
       "      <td>0.000000</td>\n",
       "      <td>0.000000</td>\n",
       "      <td>2.000000</td>\n",
       "    </tr>\n",
       "    <tr>\n",
       "      <th>50%</th>\n",
       "      <td>7560.50000</td>\n",
       "      <td>2752.000000</td>\n",
       "      <td>126.000000</td>\n",
       "      <td>15.000000</td>\n",
       "      <td>180.000000</td>\n",
       "      <td>32.000000</td>\n",
       "      <td>1316.000000</td>\n",
       "      <td>220.000000</td>\n",
       "      <td>223.000000</td>\n",
       "      <td>138.000000</td>\n",
       "      <td>...</td>\n",
       "      <td>0.000000</td>\n",
       "      <td>0.000000</td>\n",
       "      <td>0.000000</td>\n",
       "      <td>0.000000</td>\n",
       "      <td>0.000000</td>\n",
       "      <td>0.000000</td>\n",
       "      <td>0.000000</td>\n",
       "      <td>0.000000</td>\n",
       "      <td>0.000000</td>\n",
       "      <td>4.000000</td>\n",
       "    </tr>\n",
       "    <tr>\n",
       "      <th>75%</th>\n",
       "      <td>11340.25000</td>\n",
       "      <td>3104.000000</td>\n",
       "      <td>261.000000</td>\n",
       "      <td>22.000000</td>\n",
       "      <td>330.000000</td>\n",
       "      <td>79.000000</td>\n",
       "      <td>2270.000000</td>\n",
       "      <td>235.000000</td>\n",
       "      <td>235.000000</td>\n",
       "      <td>167.000000</td>\n",
       "      <td>...</td>\n",
       "      <td>0.000000</td>\n",
       "      <td>0.000000</td>\n",
       "      <td>0.000000</td>\n",
       "      <td>0.000000</td>\n",
       "      <td>0.000000</td>\n",
       "      <td>0.000000</td>\n",
       "      <td>0.000000</td>\n",
       "      <td>0.000000</td>\n",
       "      <td>0.000000</td>\n",
       "      <td>6.000000</td>\n",
       "    </tr>\n",
       "    <tr>\n",
       "      <th>max</th>\n",
       "      <td>15120.00000</td>\n",
       "      <td>3849.000000</td>\n",
       "      <td>360.000000</td>\n",
       "      <td>52.000000</td>\n",
       "      <td>1343.000000</td>\n",
       "      <td>554.000000</td>\n",
       "      <td>6890.000000</td>\n",
       "      <td>254.000000</td>\n",
       "      <td>254.000000</td>\n",
       "      <td>248.000000</td>\n",
       "      <td>...</td>\n",
       "      <td>1.000000</td>\n",
       "      <td>1.000000</td>\n",
       "      <td>1.000000</td>\n",
       "      <td>1.000000</td>\n",
       "      <td>1.000000</td>\n",
       "      <td>1.000000</td>\n",
       "      <td>1.000000</td>\n",
       "      <td>1.000000</td>\n",
       "      <td>1.000000</td>\n",
       "      <td>7.000000</td>\n",
       "    </tr>\n",
       "  </tbody>\n",
       "</table>\n",
       "<p>8 rows × 56 columns</p>\n",
       "</div>"
      ],
      "text/plain": [
       "                Id     Elevation        Aspect         Slope  \\\n",
       "count  15120.00000  15120.000000  15120.000000  15120.000000   \n",
       "mean    7560.50000   2749.322553    156.676653     16.501587   \n",
       "std     4364.91237    417.678187    110.085801      8.453927   \n",
       "min        1.00000   1863.000000      0.000000      0.000000   \n",
       "25%     3780.75000   2376.000000     65.000000     10.000000   \n",
       "50%     7560.50000   2752.000000    126.000000     15.000000   \n",
       "75%    11340.25000   3104.000000    261.000000     22.000000   \n",
       "max    15120.00000   3849.000000    360.000000     52.000000   \n",
       "\n",
       "       Horizontal_Distance_To_Hydrology  Vertical_Distance_To_Hydrology  \\\n",
       "count                      15120.000000                    15120.000000   \n",
       "mean                         227.195701                       51.076521   \n",
       "std                          210.075296                       61.239406   \n",
       "min                            0.000000                     -146.000000   \n",
       "25%                           67.000000                        5.000000   \n",
       "50%                          180.000000                       32.000000   \n",
       "75%                          330.000000                       79.000000   \n",
       "max                         1343.000000                      554.000000   \n",
       "\n",
       "       Horizontal_Distance_To_Roadways  Hillshade_9am  Hillshade_Noon  \\\n",
       "count                     15120.000000   15120.000000    15120.000000   \n",
       "mean                       1714.023214     212.704299      218.965608   \n",
       "std                        1325.066358      30.561287       22.801966   \n",
       "min                           0.000000       0.000000       99.000000   \n",
       "25%                         764.000000     196.000000      207.000000   \n",
       "50%                        1316.000000     220.000000      223.000000   \n",
       "75%                        2270.000000     235.000000      235.000000   \n",
       "max                        6890.000000     254.000000      254.000000   \n",
       "\n",
       "       Hillshade_3pm  ...   Soil_Type32   Soil_Type33   Soil_Type34  \\\n",
       "count   15120.000000  ...  15120.000000  15120.000000  15120.000000   \n",
       "mean      135.091997  ...      0.045635      0.040741      0.001455   \n",
       "std        45.895189  ...      0.208699      0.197696      0.038118   \n",
       "min         0.000000  ...      0.000000      0.000000      0.000000   \n",
       "25%       106.000000  ...      0.000000      0.000000      0.000000   \n",
       "50%       138.000000  ...      0.000000      0.000000      0.000000   \n",
       "75%       167.000000  ...      0.000000      0.000000      0.000000   \n",
       "max       248.000000  ...      1.000000      1.000000      1.000000   \n",
       "\n",
       "        Soil_Type35   Soil_Type36   Soil_Type37   Soil_Type38   Soil_Type39  \\\n",
       "count  15120.000000  15120.000000  15120.000000  15120.000000  15120.000000   \n",
       "mean       0.006746      0.000661      0.002249      0.048148      0.043452   \n",
       "std        0.081859      0.025710      0.047368      0.214086      0.203880   \n",
       "min        0.000000      0.000000      0.000000      0.000000      0.000000   \n",
       "25%        0.000000      0.000000      0.000000      0.000000      0.000000   \n",
       "50%        0.000000      0.000000      0.000000      0.000000      0.000000   \n",
       "75%        0.000000      0.000000      0.000000      0.000000      0.000000   \n",
       "max        1.000000      1.000000      1.000000      1.000000      1.000000   \n",
       "\n",
       "        Soil_Type40    Cover_Type  \n",
       "count  15120.000000  15120.000000  \n",
       "mean       0.030357      4.000000  \n",
       "std        0.171574      2.000066  \n",
       "min        0.000000      1.000000  \n",
       "25%        0.000000      2.000000  \n",
       "50%        0.000000      4.000000  \n",
       "75%        0.000000      6.000000  \n",
       "max        1.000000      7.000000  \n",
       "\n",
       "[8 rows x 56 columns]"
      ]
     },
     "execution_count": 9,
     "metadata": {},
     "output_type": "execute_result"
    }
   ],
   "source": [
    "frst_cvr.describe()"
   ]
  },
  {
   "cell_type": "code",
   "execution_count": 10,
   "id": "a7e729da",
   "metadata": {},
   "outputs": [
    {
     "data": {
      "text/html": [
       "<div>\n",
       "<style scoped>\n",
       "    .dataframe tbody tr th:only-of-type {\n",
       "        vertical-align: middle;\n",
       "    }\n",
       "\n",
       "    .dataframe tbody tr th {\n",
       "        vertical-align: top;\n",
       "    }\n",
       "\n",
       "    .dataframe thead th {\n",
       "        text-align: right;\n",
       "    }\n",
       "</style>\n",
       "<table border=\"1\" class=\"dataframe\">\n",
       "  <thead>\n",
       "    <tr style=\"text-align: right;\">\n",
       "      <th></th>\n",
       "      <th>Id</th>\n",
       "      <th>Elevation</th>\n",
       "      <th>Aspect</th>\n",
       "      <th>Slope</th>\n",
       "      <th>Horizontal_Distance_To_Hydrology</th>\n",
       "      <th>Vertical_Distance_To_Hydrology</th>\n",
       "      <th>Horizontal_Distance_To_Roadways</th>\n",
       "      <th>Hillshade_9am</th>\n",
       "      <th>Hillshade_Noon</th>\n",
       "      <th>Hillshade_3pm</th>\n",
       "      <th>...</th>\n",
       "      <th>Soil_Type31</th>\n",
       "      <th>Soil_Type32</th>\n",
       "      <th>Soil_Type33</th>\n",
       "      <th>Soil_Type34</th>\n",
       "      <th>Soil_Type35</th>\n",
       "      <th>Soil_Type36</th>\n",
       "      <th>Soil_Type37</th>\n",
       "      <th>Soil_Type38</th>\n",
       "      <th>Soil_Type39</th>\n",
       "      <th>Soil_Type40</th>\n",
       "    </tr>\n",
       "  </thead>\n",
       "  <tbody>\n",
       "    <tr>\n",
       "      <th>count</th>\n",
       "      <td>565892.000000</td>\n",
       "      <td>565892.000000</td>\n",
       "      <td>565892.000000</td>\n",
       "      <td>565892.000000</td>\n",
       "      <td>565892.000000</td>\n",
       "      <td>565892.000000</td>\n",
       "      <td>565892.000000</td>\n",
       "      <td>565892.000000</td>\n",
       "      <td>565892.000000</td>\n",
       "      <td>565892.000000</td>\n",
       "      <td>...</td>\n",
       "      <td>565892.000000</td>\n",
       "      <td>565892.000000</td>\n",
       "      <td>565892.000000</td>\n",
       "      <td>565892.000000</td>\n",
       "      <td>565892.000000</td>\n",
       "      <td>565892.000000</td>\n",
       "      <td>565892.000000</td>\n",
       "      <td>565892.000000</td>\n",
       "      <td>565892.000000</td>\n",
       "      <td>565892.000000</td>\n",
       "    </tr>\n",
       "    <tr>\n",
       "      <th>mean</th>\n",
       "      <td>298066.500000</td>\n",
       "      <td>2964.977407</td>\n",
       "      <td>155.629558</td>\n",
       "      <td>14.039635</td>\n",
       "      <td>270.556622</td>\n",
       "      <td>46.294408</td>\n",
       "      <td>2367.143116</td>\n",
       "      <td>212.131133</td>\n",
       "      <td>223.435026</td>\n",
       "      <td>142.726951</td>\n",
       "      <td>...</td>\n",
       "      <td>0.044768</td>\n",
       "      <td>0.091588</td>\n",
       "      <td>0.078704</td>\n",
       "      <td>0.002808</td>\n",
       "      <td>0.003161</td>\n",
       "      <td>0.000193</td>\n",
       "      <td>0.000467</td>\n",
       "      <td>0.026233</td>\n",
       "      <td>0.023236</td>\n",
       "      <td>0.014651</td>\n",
       "    </tr>\n",
       "    <tr>\n",
       "      <th>std</th>\n",
       "      <td>163359.093603</td>\n",
       "      <td>273.157030</td>\n",
       "      <td>111.962120</td>\n",
       "      <td>7.450155</td>\n",
       "      <td>212.500153</td>\n",
       "      <td>58.209469</td>\n",
       "      <td>1561.482002</td>\n",
       "      <td>26.661063</td>\n",
       "      <td>19.668053</td>\n",
       "      <td>38.030094</td>\n",
       "      <td>...</td>\n",
       "      <td>0.206795</td>\n",
       "      <td>0.288444</td>\n",
       "      <td>0.269277</td>\n",
       "      <td>0.052916</td>\n",
       "      <td>0.056137</td>\n",
       "      <td>0.013877</td>\n",
       "      <td>0.021594</td>\n",
       "      <td>0.159827</td>\n",
       "      <td>0.150652</td>\n",
       "      <td>0.120152</td>\n",
       "    </tr>\n",
       "    <tr>\n",
       "      <th>min</th>\n",
       "      <td>15121.000000</td>\n",
       "      <td>1859.000000</td>\n",
       "      <td>0.000000</td>\n",
       "      <td>0.000000</td>\n",
       "      <td>0.000000</td>\n",
       "      <td>-173.000000</td>\n",
       "      <td>0.000000</td>\n",
       "      <td>0.000000</td>\n",
       "      <td>0.000000</td>\n",
       "      <td>0.000000</td>\n",
       "      <td>...</td>\n",
       "      <td>0.000000</td>\n",
       "      <td>0.000000</td>\n",
       "      <td>0.000000</td>\n",
       "      <td>0.000000</td>\n",
       "      <td>0.000000</td>\n",
       "      <td>0.000000</td>\n",
       "      <td>0.000000</td>\n",
       "      <td>0.000000</td>\n",
       "      <td>0.000000</td>\n",
       "      <td>0.000000</td>\n",
       "    </tr>\n",
       "    <tr>\n",
       "      <th>25%</th>\n",
       "      <td>156593.750000</td>\n",
       "      <td>2818.000000</td>\n",
       "      <td>58.000000</td>\n",
       "      <td>9.000000</td>\n",
       "      <td>108.000000</td>\n",
       "      <td>7.000000</td>\n",
       "      <td>1116.000000</td>\n",
       "      <td>198.000000</td>\n",
       "      <td>213.000000</td>\n",
       "      <td>119.000000</td>\n",
       "      <td>...</td>\n",
       "      <td>0.000000</td>\n",
       "      <td>0.000000</td>\n",
       "      <td>0.000000</td>\n",
       "      <td>0.000000</td>\n",
       "      <td>0.000000</td>\n",
       "      <td>0.000000</td>\n",
       "      <td>0.000000</td>\n",
       "      <td>0.000000</td>\n",
       "      <td>0.000000</td>\n",
       "      <td>0.000000</td>\n",
       "    </tr>\n",
       "    <tr>\n",
       "      <th>50%</th>\n",
       "      <td>298066.500000</td>\n",
       "      <td>2999.000000</td>\n",
       "      <td>127.000000</td>\n",
       "      <td>13.000000</td>\n",
       "      <td>228.000000</td>\n",
       "      <td>29.000000</td>\n",
       "      <td>2018.000000</td>\n",
       "      <td>218.000000</td>\n",
       "      <td>226.000000</td>\n",
       "      <td>143.000000</td>\n",
       "      <td>...</td>\n",
       "      <td>0.000000</td>\n",
       "      <td>0.000000</td>\n",
       "      <td>0.000000</td>\n",
       "      <td>0.000000</td>\n",
       "      <td>0.000000</td>\n",
       "      <td>0.000000</td>\n",
       "      <td>0.000000</td>\n",
       "      <td>0.000000</td>\n",
       "      <td>0.000000</td>\n",
       "      <td>0.000000</td>\n",
       "    </tr>\n",
       "    <tr>\n",
       "      <th>75%</th>\n",
       "      <td>439539.250000</td>\n",
       "      <td>3164.000000</td>\n",
       "      <td>260.000000</td>\n",
       "      <td>18.000000</td>\n",
       "      <td>390.000000</td>\n",
       "      <td>69.000000</td>\n",
       "      <td>3349.000000</td>\n",
       "      <td>231.000000</td>\n",
       "      <td>237.000000</td>\n",
       "      <td>168.000000</td>\n",
       "      <td>...</td>\n",
       "      <td>0.000000</td>\n",
       "      <td>0.000000</td>\n",
       "      <td>0.000000</td>\n",
       "      <td>0.000000</td>\n",
       "      <td>0.000000</td>\n",
       "      <td>0.000000</td>\n",
       "      <td>0.000000</td>\n",
       "      <td>0.000000</td>\n",
       "      <td>0.000000</td>\n",
       "      <td>0.000000</td>\n",
       "    </tr>\n",
       "    <tr>\n",
       "      <th>max</th>\n",
       "      <td>581012.000000</td>\n",
       "      <td>3858.000000</td>\n",
       "      <td>360.000000</td>\n",
       "      <td>66.000000</td>\n",
       "      <td>1397.000000</td>\n",
       "      <td>601.000000</td>\n",
       "      <td>7117.000000</td>\n",
       "      <td>254.000000</td>\n",
       "      <td>254.000000</td>\n",
       "      <td>254.000000</td>\n",
       "      <td>...</td>\n",
       "      <td>1.000000</td>\n",
       "      <td>1.000000</td>\n",
       "      <td>1.000000</td>\n",
       "      <td>1.000000</td>\n",
       "      <td>1.000000</td>\n",
       "      <td>1.000000</td>\n",
       "      <td>1.000000</td>\n",
       "      <td>1.000000</td>\n",
       "      <td>1.000000</td>\n",
       "      <td>1.000000</td>\n",
       "    </tr>\n",
       "  </tbody>\n",
       "</table>\n",
       "<p>8 rows × 55 columns</p>\n",
       "</div>"
      ],
      "text/plain": [
       "                  Id      Elevation         Aspect          Slope  \\\n",
       "count  565892.000000  565892.000000  565892.000000  565892.000000   \n",
       "mean   298066.500000    2964.977407     155.629558      14.039635   \n",
       "std    163359.093603     273.157030     111.962120       7.450155   \n",
       "min     15121.000000    1859.000000       0.000000       0.000000   \n",
       "25%    156593.750000    2818.000000      58.000000       9.000000   \n",
       "50%    298066.500000    2999.000000     127.000000      13.000000   \n",
       "75%    439539.250000    3164.000000     260.000000      18.000000   \n",
       "max    581012.000000    3858.000000     360.000000      66.000000   \n",
       "\n",
       "       Horizontal_Distance_To_Hydrology  Vertical_Distance_To_Hydrology  \\\n",
       "count                     565892.000000                   565892.000000   \n",
       "mean                         270.556622                       46.294408   \n",
       "std                          212.500153                       58.209469   \n",
       "min                            0.000000                     -173.000000   \n",
       "25%                          108.000000                        7.000000   \n",
       "50%                          228.000000                       29.000000   \n",
       "75%                          390.000000                       69.000000   \n",
       "max                         1397.000000                      601.000000   \n",
       "\n",
       "       Horizontal_Distance_To_Roadways  Hillshade_9am  Hillshade_Noon  \\\n",
       "count                    565892.000000  565892.000000   565892.000000   \n",
       "mean                       2367.143116     212.131133      223.435026   \n",
       "std                        1561.482002      26.661063       19.668053   \n",
       "min                           0.000000       0.000000        0.000000   \n",
       "25%                        1116.000000     198.000000      213.000000   \n",
       "50%                        2018.000000     218.000000      226.000000   \n",
       "75%                        3349.000000     231.000000      237.000000   \n",
       "max                        7117.000000     254.000000      254.000000   \n",
       "\n",
       "       Hillshade_3pm  ...    Soil_Type31    Soil_Type32    Soil_Type33  \\\n",
       "count  565892.000000  ...  565892.000000  565892.000000  565892.000000   \n",
       "mean      142.726951  ...       0.044768       0.091588       0.078704   \n",
       "std        38.030094  ...       0.206795       0.288444       0.269277   \n",
       "min         0.000000  ...       0.000000       0.000000       0.000000   \n",
       "25%       119.000000  ...       0.000000       0.000000       0.000000   \n",
       "50%       143.000000  ...       0.000000       0.000000       0.000000   \n",
       "75%       168.000000  ...       0.000000       0.000000       0.000000   \n",
       "max       254.000000  ...       1.000000       1.000000       1.000000   \n",
       "\n",
       "         Soil_Type34    Soil_Type35    Soil_Type36    Soil_Type37  \\\n",
       "count  565892.000000  565892.000000  565892.000000  565892.000000   \n",
       "mean        0.002808       0.003161       0.000193       0.000467   \n",
       "std         0.052916       0.056137       0.013877       0.021594   \n",
       "min         0.000000       0.000000       0.000000       0.000000   \n",
       "25%         0.000000       0.000000       0.000000       0.000000   \n",
       "50%         0.000000       0.000000       0.000000       0.000000   \n",
       "75%         0.000000       0.000000       0.000000       0.000000   \n",
       "max         1.000000       1.000000       1.000000       1.000000   \n",
       "\n",
       "         Soil_Type38    Soil_Type39    Soil_Type40  \n",
       "count  565892.000000  565892.000000  565892.000000  \n",
       "mean        0.026233       0.023236       0.014651  \n",
       "std         0.159827       0.150652       0.120152  \n",
       "min         0.000000       0.000000       0.000000  \n",
       "25%         0.000000       0.000000       0.000000  \n",
       "50%         0.000000       0.000000       0.000000  \n",
       "75%         0.000000       0.000000       0.000000  \n",
       "max         1.000000       1.000000       1.000000  \n",
       "\n",
       "[8 rows x 55 columns]"
      ]
     },
     "execution_count": 10,
     "metadata": {},
     "output_type": "execute_result"
    }
   ],
   "source": [
    "frst_cvr_test.describe()"
   ]
  },
  {
   "cell_type": "markdown",
   "id": "38d414d2",
   "metadata": {},
   "source": [
    "## Feature Engineering"
   ]
  },
  {
   "cell_type": "code",
   "execution_count": 11,
   "id": "be4a5837",
   "metadata": {},
   "outputs": [],
   "source": [
    "frst_cvr[\"Hillshade_mean\"] = (frst_cvr[\"Hillshade_9am\"] + frst_cvr[\"Hillshade_Noon\"] + frst_cvr[\"Hillshade_3pm\"]) / 3"
   ]
  },
  {
   "cell_type": "code",
   "execution_count": 12,
   "id": "f628fbb6",
   "metadata": {},
   "outputs": [],
   "source": [
    "frst_cvr[\"Euclid_dist_to_hydrology\"] = np.sqrt((frst_cvr[\"Horizontal_Distance_To_Hydrology\"] ** 2) + (frst_cvr[\"Vertical_Distance_To_Hydrology\"] ** 2))"
   ]
  },
  {
   "cell_type": "code",
   "execution_count": 13,
   "id": "02e8dd51",
   "metadata": {},
   "outputs": [],
   "source": [
    "bins = [0,22.5,45,67.5,90,112.5,135,157.5,180,202.5,225,247.5,270, 292.5, 315,337.5,360]\n",
    "labels = [\"North-northeast\", \"Northeast\", \"East-northeast\",\"East\", \"East-southeast\", \"SouthEast\",\n",
    "          \"South-southeast\",\"South\",\"South-southwest\",\"Southwest\", \"West-southwest\",\"West\",\n",
    "        \"West-northwest\",\"Northwest\",\"North-northwest\",\"North\"]\n",
    "frst_cvr[\"aspect_group\"] = pd.cut(frst_cvr[\"Aspect\"], bins = bins, labels = labels)\n",
    "# len(bins), len(labels)"
   ]
  },
  {
   "cell_type": "code",
   "execution_count": 14,
   "id": "3d118d00",
   "metadata": {},
   "outputs": [
    {
     "data": {
      "text/plain": [
       "0     East-northeast\n",
       "1     East-northeast\n",
       "2    South-southeast\n",
       "3    South-southeast\n",
       "4          Northeast\n",
       "Name: aspect_group, dtype: category\n",
       "Categories (16, object): ['North-northeast' < 'Northeast' < 'East-northeast' < 'East' ... 'West-northwest' < 'Northwest' < 'North-northwest' < 'North']"
      ]
     },
     "execution_count": 14,
     "metadata": {},
     "output_type": "execute_result"
    }
   ],
   "source": [
    "frst_cvr[\"aspect_group\"].head()"
   ]
  },
  {
   "cell_type": "code",
   "execution_count": 15,
   "id": "a81cadd9",
   "metadata": {},
   "outputs": [],
   "source": [
    "frst_cvr[\"log_elev\"] = np.log(frst_cvr[\"Elevation\"])"
   ]
  },
  {
   "cell_type": "code",
   "execution_count": 16,
   "id": "046697c0",
   "metadata": {},
   "outputs": [],
   "source": [
    "frst_cvr[\"Hillshade_9am_sq\"] = frst_cvr[\"Hillshade_9am\"] ** 2\n",
    "frst_cvr[\"Hillshade_Noon_sq\"] = frst_cvr[\"Hillshade_Noon\"] ** 2\n",
    "frst_cvr[\"Hillshade_3pm_sq\"] = frst_cvr[\"Hillshade_3pm\"] ** 2"
   ]
  },
  {
   "cell_type": "code",
   "execution_count": 17,
   "id": "4faf5ee8",
   "metadata": {},
   "outputs": [],
   "source": [
    "frst_cvr[\"interaction_9amnoon\"] = frst_cvr[\"Hillshade_9am\"] * frst_cvr[\"Hillshade_Noon\"]\n",
    "frst_cvr[\"interaction_noon3pm\"] = frst_cvr[\"Hillshade_Noon\"] * frst_cvr[\"Hillshade_3pm\"]\n",
    "frst_cvr[\"interaction_9am3pm\"] = frst_cvr[\"Hillshade_9am\"] * frst_cvr[\"Hillshade_3pm\"]"
   ]
  },
  {
   "cell_type": "code",
   "execution_count": 18,
   "id": "9c4d1f81",
   "metadata": {},
   "outputs": [],
   "source": [
    "frst_cvr[\"cosine_slope\"] = np.cos(frst_cvr[\"Slope\"])"
   ]
  },
  {
   "cell_type": "code",
   "execution_count": 19,
   "id": "43126c2e",
   "metadata": {},
   "outputs": [],
   "source": [
    "slope_bins = [0,0.3,1.1,3,5,8.5,16.5,24,35,45,np.inf]\n",
    "slope_labels = [\"Level\", \"Nearly_Level\",\"Very_gentle_Slope\",\"Gentle_Slope\",\"Moderate_Slope\",\"Strong_slope\",\"Very_Strong_Slope\",\n",
    "         \"Extreme_Slope\",\"Steep_Slope\",\"Very_Steep_Slope\"]\n",
    "frst_cvr[\"slope_group\"] = pd.cut(frst_cvr[\"Slope\"], bins = slope_bins, labels = slope_labels)"
   ]
  },
  {
   "cell_type": "code",
   "execution_count": 20,
   "id": "7082e2b4",
   "metadata": {},
   "outputs": [],
   "source": [
    "from sklearn.preprocessing import LabelEncoder"
   ]
  },
  {
   "cell_type": "code",
   "execution_count": 21,
   "id": "bf1e084f",
   "metadata": {},
   "outputs": [],
   "source": [
    "encoder = LabelEncoder()\n",
    "frst_cvr[\"slope_group\"] = encoder.fit_transform(frst_cvr[\"slope_group\"])\n",
    "frst_cvr[\"aspect_group\"] = encoder.fit_transform(frst_cvr[\"aspect_group\"])"
   ]
  },
  {
   "cell_type": "code",
   "execution_count": 22,
   "id": "301a0c81",
   "metadata": {},
   "outputs": [
    {
     "data": {
      "text/plain": [
       "<AxesSubplot:xlabel='Cover_Type', ylabel='count'>"
      ]
     },
     "execution_count": 22,
     "metadata": {},
     "output_type": "execute_result"
    },
    {
     "data": {
      "image/png": "[encoded data removed]",
      "text/plain": [
       "<Figure size 720x720 with 1 Axes>"
      ]
     },
     "metadata": {},
     "output_type": "display_data"
    }
   ],
   "source": [
    "sns.countplot(x = \"Cover_Type\", data = frst_cvr)"
   ]
  },
  {
   "cell_type": "code",
   "execution_count": 23,
   "id": "baf4f8b7",
   "metadata": {},
   "outputs": [
    {
     "data": {
      "text/plain": [
       "1    2160\n",
       "2    2160\n",
       "3    2160\n",
       "4    2160\n",
       "5    2160\n",
       "6    2160\n",
       "7    2160\n",
       "Name: Cover_Type, dtype: int64"
      ]
     },
     "execution_count": 23,
     "metadata": {},
     "output_type": "execute_result"
    }
   ],
   "source": [
    "frst_cvr[\"Cover_Type\"].value_counts()"
   ]
  },
  {
   "cell_type": "code",
   "execution_count": 24,
   "id": "32e0306f",
   "metadata": {},
   "outputs": [],
   "source": [
    "### More Feature Engineering\n",
    "import math\n",
    "frst_cvr['Horizontal_Distance_To_Roadways_Log'] = [math.log(v+1) for v in frst_cvr['Horizontal_Distance_To_Roadways']]\n",
    "frst_cvr['Water Elevation'] = frst_cvr['Elevation'] - frst_cvr['Vertical_Distance_To_Hydrology']\n",
    "frst_cvr['Hydro_Fire_1'] = frst_cvr['Horizontal_Distance_To_Hydrology'] + frst_cvr['Horizontal_Distance_To_Fire_Points']\n",
    "frst_cvr['Hydro_Fire_2'] = abs(frst_cvr['Horizontal_Distance_To_Hydrology'] - frst_cvr['Horizontal_Distance_To_Fire_Points'])"
   ]
  },
  {
   "cell_type": "code",
   "execution_count": 25,
   "id": "df2db812",
   "metadata": {},
   "outputs": [],
   "source": [
    "frst_cvr['Hydro_Road_1'] = abs(frst_cvr['Horizontal_Distance_To_Hydrology'] + frst_cvr['Horizontal_Distance_To_Roadways'])['Hydro_Road_2'] = abs(frst_cvr['Horizontal_Distance_To_Hydrology'] - frst_cvr['Horizontal_Distance_To_Roadways'])\n",
    "frst_cvr['Fire_Road_1'] = abs(frst_cvr['Horizontal_Distance_To_Fire_Points'] + frst_cvr['Horizontal_Distance_To_Roadways'])\n",
    "frst_cvr['Fire_Road_2'] = abs(frst_cvr['Horizontal_Distance_To_Fire_Points'] - frst_cvr['Horizontal_Distance_To_Roadways'])\n",
    "frst_cvr['EHiElv'] = frst_cvr['Horizontal_Distance_To_Roadways'] * frst_cvr['Elevation']\n",
    "frst_cvr['EVDtH'] = frst_cvr[\"Elevation\"] - frst_cvr[\"Vertical_Distance_To_Hydrology\"]\n",
    "frst_cvr['EHDtH'] = frst_cvr[\"Elevation\"] - frst_cvr[\"Horizontal_Distance_To_Hydrology\"] * 0.2\n",
    "frst_cvr['Elev_3Horiz'] = frst_cvr['Elevation'] + frst_cvr['Horizontal_Distance_To_Roadways']  + frst_cvr['Horizontal_Distance_To_Fire_Points'] + frst_cvr['Horizontal_Distance_To_Hydrology']\n",
    "frst_cvr['Elev_Road_1'] = frst_cvr['Elevation'] + frst_cvr['Horizontal_Distance_To_Roadways']\n",
    "frst_cvr['Elev_Road_2'] = frst_cvr['Elevation'] - frst_cvr['Horizontal_Distance_To_Roadways']\n",
    "frst_cvr['Elev_Fire_1'] = frst_cvr['Elevation'] + frst_cvr['Horizontal_Distance_To_Fire_Points']\n",
    "frst_cvr['Elev_Fire_2'] = frst_cvr['Elevation'] - frst_cvr['Horizontal_Distance_To_Fire_Points']"
   ]
  },
  {
   "cell_type": "code",
   "execution_count": 26,
   "id": "db390a6e",
   "metadata": {},
   "outputs": [],
   "source": [
    "ELU_CODE = {\n",
    "    1:2702,2:2703,3:2704,4:2705,5:2706,6:2717,7:3501,8:3502,9:4201,\n",
    "    10:4703,11:4704,12:4744,13:4758,14:5101,15:5151,16:6101,17:6102,\n",
    "    18:6731,19:7101,20:7102,21:7103,22:7201,23:7202,24:7700,25:7701,\n",
    "    26:7702,27:7709,28:7710,29:7745,30:7746,31:7755,32:7756,33:7757,\n",
    "    34:7790,35:8703,36:8707,37:8708,38:8771,39:8772,40:8776}"
   ]
  },
  {
   "cell_type": "code",
   "execution_count": 27,
   "id": "138aebcb",
   "metadata": {},
   "outputs": [],
   "source": [
    "def categorical_encoding(input_df):\n",
    "    data = input_df.copy()\n",
    "    data['Soil_Type'] = 0\n",
    "    for i in range(1,41):\n",
    "        data['Soil_Type'] += i*data[f'Soil_Type{i}']\n",
    "    return data"
   ]
  },
  {
   "cell_type": "code",
   "execution_count": 28,
   "id": "b95fea74",
   "metadata": {},
   "outputs": [],
   "source": [
    "frst_cvr = categorical_encoding(frst_cvr)"
   ]
  },
  {
   "cell_type": "code",
   "execution_count": 29,
   "id": "8149651d",
   "metadata": {},
   "outputs": [
    {
     "data": {
      "text/plain": [
       "array([29, 12, 30, 18, 16, 20, 24, 23, 40, 19,  8, 22, 39,  9, 38, 33, 31,\n",
       "       32, 11, 10,  5, 28,  4,  1, 13,  2, 17,  3, 34,  6, 14, 37, 35, 36,\n",
       "       21, 26, 27, 25], dtype=int64)"
      ]
     },
     "execution_count": 29,
     "metadata": {},
     "output_type": "execute_result"
    }
   ],
   "source": [
    "frst_cvr[\"Soil_Type\"].unique()"
   ]
  },
  {
   "cell_type": "code",
   "execution_count": 30,
   "id": "787236ad",
   "metadata": {},
   "outputs": [],
   "source": [
    "# We create a feature based on the climatic zone of the soil. \n",
    "# This can be determined by the first digit of the ELU code. Note that the climatic zone has a natural ordering:\n",
    "\n",
    "# lower montane dry, lower montane, montane dry\n",
    "# montane, montane dry and montane, montane and subalpine, subalpine, alpine\n",
    "\n",
    "def climatic_zone(input_df):\n",
    "    df = input_df.copy()\n",
    "    df['Climatic_Zone'] = input_df['Soil_Type'].apply(\n",
    "        lambda x: int(str(ELU_CODE[x])[0]))\n",
    "    return df"
   ]
  },
  {
   "cell_type": "code",
   "execution_count": 31,
   "id": "1ac1b212",
   "metadata": {},
   "outputs": [],
   "source": [
    "frst_cvr = climatic_zone(frst_cvr)"
   ]
  },
  {
   "cell_type": "code",
   "execution_count": 32,
   "id": "e583c940",
   "metadata": {},
   "outputs": [],
   "source": [
    "# 2. Geologic Zone (Nominal Variable)\n",
    "# This is another feature that comes directly from the ELU code. \n",
    "# The geologic zone is determined by the second digit in the ELU code. \n",
    "# Unlike the climatic zone, the geologic zone has no natural ordering:\n",
    "\n",
    "# alluvium, glacial, shale,sandstone, mixed sedimentary, unspecified in the USFS ELU Survey, igneous and metamorphic, volcanic\n",
    "\n",
    "def geologic_zone(input_df):\n",
    "    df = input_df.copy()\n",
    "    df['Geologic_Zone'] = input_df['Soil_Type'].apply(\n",
    "        lambda x: int(str(ELU_CODE[x])[1]))\n",
    "    return df"
   ]
  },
  {
   "cell_type": "code",
   "execution_count": 33,
   "id": "ae0e6760",
   "metadata": {},
   "outputs": [],
   "source": [
    "frst_cvr = geologic_zone(frst_cvr)"
   ]
  },
  {
   "cell_type": "code",
   "execution_count": 34,
   "id": "b37bf454",
   "metadata": {},
   "outputs": [],
   "source": [
    "# 3. Surface Cover (Ordinal Variable)\n",
    "# This feature is also based on the ELU code and the original data description for each soil type. Note that not all of the soil types have a description of their surface cover. According to the USDA reference on soil profiling:\n",
    "# (Stony/Bouldery) — Stones or boulders cover 0.01 to less than 0.1 percent of the surface. The smallest stones are at least 8 meters apart; the smallest boulders are at least 20 meters apart.\n",
    "# (Very Stony/Very Bouldery) — Stones or boulders cover 0.1 to less than 3 percent of the surface. The smallest stones are not less than 1 meter apart; the smallest boulders are not less than 3 meters apart.\n",
    "# (Extremely Stony/Extremely Bouldery) — Stones or boulders cover 3 to less than 15 percent of the surface. The smallest stones are as little as 0.5 meter apart; the smallest boulders are as little as 1 meter apart.\n",
    "# (Rubbly) — Stones or boulders cover 15 to less than 50 percent of the surface. The smallest stones are as little as 0.3 meter apart; the smallest boulders are as little as 0.5 meter apart. In most places it is possible to step from stone to stone or jump from boulder to boulder without touching the soil.\n",
    "# (Very Rubbly) — Stones or boulders appear to be nearly continuous and cover 50 percent or more of the surface. The smallest stones are less than 0.03 meter apart; the smallest boulders are less than 0.05 meter apart. Classifiable soil is among the rock fragments, and plant growth is possible.\n",
    "\n",
    "# If no description of the surface cover is given, we give it a value of 0.\n",
    "\n",
    "def surface_cover(input_df):\n",
    "    # Group IDs\n",
    "    no_desc = [7,8,14,15,16,17,19,20,21,23,35]\n",
    "    stony = [6,12]\n",
    "    very_stony = [2,9,18,26]\n",
    "    extremely_stony = [1,22,24,25,27,28,29,30,31,32,33,34,36,37,38,39,40]\n",
    "    rubbly = [3,4,5,10,11,13]\n",
    "\n",
    "    # Create dictionary\n",
    "    surface_cover = {i:0 for i in no_desc}\n",
    "    surface_cover.update({i:1 for i in stony})\n",
    "    surface_cover.update({i:2 for i in very_stony})\n",
    "    surface_cover.update({i:3 for i in extremely_stony})\n",
    "    surface_cover.update({i:4 for i in rubbly})\n",
    "    \n",
    "    # Create Feature\n",
    "    df = input_df.copy()\n",
    "    df['Surface_Cover'] = input_df['Soil_Type'].apply(\n",
    "        lambda x: surface_cover[x]\n",
    "    )\n",
    "    return df"
   ]
  },
  {
   "cell_type": "code",
   "execution_count": 35,
   "id": "775ea62d",
   "metadata": {},
   "outputs": [],
   "source": [
    "frst_cvr = surface_cover(frst_cvr)"
   ]
  },
  {
   "cell_type": "code",
   "execution_count": 36,
   "id": "2536c01c",
   "metadata": {},
   "outputs": [],
   "source": [
    "# 4. Rock Size (Nominal)\n",
    "# The final soil type feature we consider is rock size. This is also determined from the ELU code, the original data description and the USFS soil profiling reference:\n",
    "\n",
    "# Stones, Boulders, Rubble\n",
    "# If the soil type description has no mention of rock size, we give it a default value of 0\n",
    "\n",
    "def rock_size(input_df):\n",
    "    \n",
    "    # Group IDs\n",
    "    no_desc = [7,8,14,15,16,17,19,20,21,23,35]\n",
    "    stones = [1,2,6,9,12,18,24,25,26,27,28,29,30,31,32,33,34,36,37,38,39,40]\n",
    "    boulders = [22]\n",
    "    rubble = [3,4,5,10,11,13]\n",
    "\n",
    "    # Create dictionary\n",
    "    rock_size = {i:0 for i in no_desc}\n",
    "    rock_size.update({i:1 for i in stones})\n",
    "    rock_size.update({i:2 for i in boulders})\n",
    "    rock_size.update({i:3 for i in rubble})\n",
    "    \n",
    "    df = input_df.copy()\n",
    "    df['Rock_Size'] = input_df['Soil_Type'].apply(\n",
    "        lambda x: rock_size[x]\n",
    "    )\n",
    "    return df"
   ]
  },
  {
   "cell_type": "code",
   "execution_count": 37,
   "id": "15503a22",
   "metadata": {},
   "outputs": [],
   "source": [
    "frst_cvr = rock_size(frst_cvr)"
   ]
  },
  {
   "cell_type": "code",
   "execution_count": 38,
   "id": "088b0a92",
   "metadata": {},
   "outputs": [],
   "source": [
    "def soiltype_interactions(data):\n",
    "    df = data.copy()\n",
    "            \n",
    "    # Important Soil Types\n",
    "    df['Soil_12_32'] = df['Soil_Type32'] + df['Soil_Type12']\n",
    "    df['Soil_Type23_22_32_33'] = df['Soil_Type23'] + df['Soil_Type22'] + df['Soil_Type32'] + df['Soil_Type33']\n",
    "    \n",
    "    # Soil Type Interactions\n",
    "    df['Soil29_Area1'] = df['Soil_Type29'] + df['Wilderness_Area1']\n",
    "    df['Soil3_Area4'] = df['Wilderness_Area4'] + df['Soil_Type3']\n",
    "    \n",
    "    #  New Feature Interactions\n",
    "    df['Climate_Area2'] = df['Wilderness_Area2']*df['Climatic_Zone'] \n",
    "    df['Climate_Area4'] = df['Wilderness_Area4']*df['Climatic_Zone'] \n",
    "    df['Rock_Area1'] = df['Wilderness_Area1']*df['Rock_Size']    \n",
    "    df['Rock_Area3'] = df['Wilderness_Area3']*df['Rock_Size']  \n",
    "    df['Surface_Area1'] = df['Wilderness_Area1']*df['Surface_Cover'] \n",
    "    df['Surface_Area2'] = df['Wilderness_Area2']*df['Surface_Cover']   \n",
    "    df['Surface_Area4'] = df['Wilderness_Area4']*df['Surface_Cover'] \n",
    "    \n",
    "    # Fill NA\n",
    "    df.fillna(0, inplace = True)\n",
    "    \n",
    "    return df"
   ]
  },
  {
   "cell_type": "code",
   "execution_count": 39,
   "id": "f2789bec",
   "metadata": {},
   "outputs": [],
   "source": [
    "frst_cvr = soiltype_interactions(frst_cvr)"
   ]
  },
  {
   "cell_type": "code",
   "execution_count": 40,
   "id": "54b33a55",
   "metadata": {},
   "outputs": [],
   "source": [
    "soil_feats = frst_cvr.columns[15:55]"
   ]
  },
  {
   "cell_type": "code",
   "execution_count": 41,
   "id": "2ee8c373",
   "metadata": {},
   "outputs": [],
   "source": [
    "frst_cvr.drop(columns = soil_feats, inplace = True)"
   ]
  },
  {
   "cell_type": "code",
   "execution_count": null,
   "id": "429952f1",
   "metadata": {},
   "outputs": [],
   "source": []
  },
  {
   "cell_type": "markdown",
   "id": "d6fce475",
   "metadata": {},
   "source": [
    "#### On Test Set"
   ]
  },
  {
   "cell_type": "code",
   "execution_count": 42,
   "id": "ab278ee2",
   "metadata": {},
   "outputs": [],
   "source": [
    "frst_cvr_test[\"Hillshade_mean\"] = (frst_cvr_test[\"Hillshade_9am\"] + frst_cvr_test[\"Hillshade_Noon\"] + frst_cvr_test[\"Hillshade_3pm\"]) / 3\n",
    "\n",
    "frst_cvr_test[\"Euclid_dist_to_hydrology\"] = np.sqrt((frst_cvr_test[\"Horizontal_Distance_To_Hydrology\"] ** 2) + \n",
    "                                               (frst_cvr_test[\"Vertical_Distance_To_Hydrology\"] ** 2))\n",
    "\n",
    "bins = [0,22.5,45,67.5,90,112.5,135,157.5,180,202.5,225,247.5,270, 292.5, 315,337.5,360]\n",
    "labels = [\"North-northeast\", \"Northeast\", \"East-northeast\",\"East\", \"East-southeast\", \"SouthEast\",\n",
    "          \"South-southeast\",\"South\",\"South-southwest\",\"Southwest\", \"West-southwest\",\"West\",\n",
    "        \"West-northwest\",\"Northwest\",\"North-northwest\",\"North\"]\n",
    "frst_cvr_test[\"aspect_group\"] = pd.cut(frst_cvr_test[\"Aspect\"], bins = bins, labels = labels)\n",
    "# len(bins), len(labels)\n",
    "\n",
    "frst_cvr_test[\"log_elev\"] = np.log(frst_cvr_test[\"Elevation\"])\n",
    "\n",
    "frst_cvr_test[\"Hillshade_9am_sq\"] = frst_cvr_test[\"Hillshade_9am\"] ** 2\n",
    "frst_cvr_test[\"Hillshade_Noon_sq\"] = frst_cvr_test[\"Hillshade_Noon\"] ** 2\n",
    "frst_cvr_test[\"Hillshade_3pm_sq\"] = frst_cvr_test[\"Hillshade_3pm\"] ** 2\n",
    "\n",
    "frst_cvr_test[\"cosine_slope\"] = np.cos(frst_cvr_test[\"Slope\"])\n",
    "\n",
    "slope_bins = [0,0.3,1.1,3,5,8.5,16.5,24,35,45,np.inf]\n",
    "slope_labels = [\"Level\", \"Nearly_Level\",\"Very_gentle_Slope\",\"Gentle_Slope\",\"Moderate_Slope\",\"Strong_slope\",\"Very_Strong_Slope\",\n",
    "         \"Extreme_Slope\",\"Steep_Slope\",\"Very_Steep_Slope\"]\n",
    "frst_cvr_test[\"slope_group\"] = pd.cut(frst_cvr_test[\"Slope\"], bins = slope_bins, labels = slope_labels)"
   ]
  },
  {
   "cell_type": "code",
   "execution_count": 43,
   "id": "db7bf7a9",
   "metadata": {},
   "outputs": [],
   "source": [
    "frst_cvr_test[\"interaction_9amnoon\"] = frst_cvr_test[\"Hillshade_9am\"] * frst_cvr_test[\"Hillshade_Noon\"]\n",
    "frst_cvr_test[\"interaction_noon3pm\"] = frst_cvr_test[\"Hillshade_Noon\"] * frst_cvr_test[\"Hillshade_3pm\"]\n",
    "frst_cvr_test[\"interaction_9am3pm\"] = frst_cvr_test[\"Hillshade_9am\"] * frst_cvr_test[\"Hillshade_3pm\"]"
   ]
  },
  {
   "cell_type": "code",
   "execution_count": 44,
   "id": "08720c86",
   "metadata": {},
   "outputs": [],
   "source": [
    "frst_cvr_test[\"slope_group\"] = encoder.fit_transform(frst_cvr_test[\"slope_group\"])\n",
    "frst_cvr_test[\"aspect_group\"] = encoder.fit_transform(frst_cvr_test[\"aspect_group\"])"
   ]
  },
  {
   "cell_type": "code",
   "execution_count": 45,
   "id": "46db8dcb",
   "metadata": {},
   "outputs": [],
   "source": [
    "frst_cvr_test['Horizontal_Distance_To_Roadways_Log'] = [math.log(v+1) for v in frst_cvr_test['Horizontal_Distance_To_Roadways']]\n",
    "frst_cvr_test['Water Elevation'] = frst_cvr_test['Elevation'] - frst_cvr_test['Vertical_Distance_To_Hydrology']\n",
    "frst_cvr_test['Hydro_Fire_1'] = frst_cvr_test['Horizontal_Distance_To_Hydrology'] + frst_cvr_test['Horizontal_Distance_To_Fire_Points']\n",
    "frst_cvr_test['Hydro_Fire_2'] = abs(frst_cvr_test['Horizontal_Distance_To_Hydrology'] - frst_cvr_test['Horizontal_Distance_To_Fire_Points'])"
   ]
  },
  {
   "cell_type": "code",
   "execution_count": 46,
   "id": "696ca1f8",
   "metadata": {},
   "outputs": [],
   "source": [
    "frst_cvr_test['Hydro_Road_1'] = abs(frst_cvr_test['Horizontal_Distance_To_Hydrology'] + frst_cvr_test['Horizontal_Distance_To_Roadways'])['Hydro_Road_2'] = abs(frst_cvr_test['Horizontal_Distance_To_Hydrology'] - frst_cvr_test['Horizontal_Distance_To_Roadways'])\n",
    "frst_cvr_test['Fire_Road_1'] = abs(frst_cvr_test['Horizontal_Distance_To_Fire_Points'] + frst_cvr_test['Horizontal_Distance_To_Roadways'])\n",
    "frst_cvr_test['Fire_Road_2'] = abs(frst_cvr_test['Horizontal_Distance_To_Fire_Points'] - frst_cvr_test['Horizontal_Distance_To_Roadways'])\n",
    "frst_cvr_test['EHiElv'] = frst_cvr_test['Horizontal_Distance_To_Roadways'] * frst_cvr_test['Elevation']\n",
    "frst_cvr_test['EVDtH'] = frst_cvr_test[\"Elevation\"] - frst_cvr_test[\"Vertical_Distance_To_Hydrology\"]\n",
    "frst_cvr_test['EHDtH'] = frst_cvr_test[\"Elevation\"] - frst_cvr_test[\"Horizontal_Distance_To_Hydrology\"] * 0.2\n",
    "frst_cvr_test['Elev_3Horiz'] = frst_cvr_test['Elevation'] + frst_cvr_test['Horizontal_Distance_To_Roadways']  + frst_cvr_test['Horizontal_Distance_To_Fire_Points'] + frst_cvr_test['Horizontal_Distance_To_Hydrology']\n",
    "frst_cvr_test['Elev_Road_1'] = frst_cvr_test['Elevation'] + frst_cvr_test['Horizontal_Distance_To_Roadways']\n",
    "frst_cvr_test['Elev_Road_2'] = frst_cvr_test['Elevation'] - frst_cvr_test['Horizontal_Distance_To_Roadways']\n",
    "frst_cvr_test['Elev_Fire_1'] = frst_cvr_test['Elevation'] + frst_cvr_test['Horizontal_Distance_To_Fire_Points']\n",
    "frst_cvr_test['Elev_Fire_2'] = frst_cvr_test['Elevation'] - frst_cvr_test['Horizontal_Distance_To_Fire_Points']"
   ]
  },
  {
   "cell_type": "code",
   "execution_count": 47,
   "id": "71a96f27",
   "metadata": {},
   "outputs": [],
   "source": [
    "frst_cvr_test = categorical_encoding(frst_cvr_test)\n",
    "frst_cvr_test = climatic_zone(frst_cvr_test)\n",
    "frst_cvr_test = geologic_zone(frst_cvr_test)\n",
    "frst_cvr_test = surface_cover(frst_cvr_test)\n",
    "frst_cvr_test = rock_size(frst_cvr_test)\n",
    "frst_cvr_test = soiltype_interactions(frst_cvr_test)"
   ]
  },
  {
   "cell_type": "code",
   "execution_count": 48,
   "id": "e2582184",
   "metadata": {},
   "outputs": [],
   "source": [
    "col_miss = [i for i in frst_cvr.columns if i not in frst_cvr_test.columns]"
   ]
  },
  {
   "cell_type": "code",
   "execution_count": 49,
   "id": "96ff8da0",
   "metadata": {},
   "outputs": [
    {
     "data": {
      "text/plain": [
       "['Cover_Type']"
      ]
     },
     "execution_count": 49,
     "metadata": {},
     "output_type": "execute_result"
    }
   ],
   "source": [
    "col_miss"
   ]
  },
  {
   "cell_type": "code",
   "execution_count": 50,
   "id": "5a9bd826",
   "metadata": {},
   "outputs": [],
   "source": [
    "frst_cvr_test.drop(columns = soil_feats, inplace = True)"
   ]
  },
  {
   "cell_type": "code",
   "execution_count": 51,
   "id": "6de8b287",
   "metadata": {},
   "outputs": [
    {
     "data": {
      "text/plain": [
       "58"
      ]
     },
     "execution_count": 51,
     "metadata": {},
     "output_type": "execute_result"
    }
   ],
   "source": [
    "len(frst_cvr_test.columns)"
   ]
  },
  {
   "cell_type": "code",
   "execution_count": 52,
   "id": "f2355617",
   "metadata": {},
   "outputs": [
    {
     "data": {
      "text/plain": [
       "59"
      ]
     },
     "execution_count": 52,
     "metadata": {},
     "output_type": "execute_result"
    }
   ],
   "source": [
    "len(frst_cvr.columns)"
   ]
  },
  {
   "cell_type": "markdown",
   "id": "cebe5c37",
   "metadata": {},
   "source": [
    "### Data Split and Scaling"
   ]
  },
  {
   "cell_type": "code",
   "execution_count": 53,
   "id": "223c61a5",
   "metadata": {},
   "outputs": [],
   "source": [
    "train_data = frst_cvr[[i for i in frst_cvr.columns if i != \"Cover_Type\"]]\n",
    "train_target = frst_cvr[\"Cover_Type\"] - 1"
   ]
  },
  {
   "cell_type": "code",
   "execution_count": 54,
   "id": "faae3092",
   "metadata": {},
   "outputs": [],
   "source": [
    "from sklearn.preprocessing import RobustScaler\n",
    "scaler = RobustScaler(with_centering = True, with_scaling = True, quantile_range = (25.0,75.0))\n",
    "frst_cvr_scaled = pd.DataFrame(scaler.fit_transform(train_data), columns = train_data.columns)"
   ]
  },
  {
   "cell_type": "code",
   "execution_count": 55,
   "id": "c6839620",
   "metadata": {},
   "outputs": [
    {
     "data": {
      "text/html": [
       "<div>\n",
       "<style scoped>\n",
       "    .dataframe tbody tr th:only-of-type {\n",
       "        vertical-align: middle;\n",
       "    }\n",
       "\n",
       "    .dataframe tbody tr th {\n",
       "        vertical-align: top;\n",
       "    }\n",
       "\n",
       "    .dataframe thead th {\n",
       "        text-align: right;\n",
       "    }\n",
       "</style>\n",
       "<table border=\"1\" class=\"dataframe\">\n",
       "  <thead>\n",
       "    <tr style=\"text-align: right;\">\n",
       "      <th></th>\n",
       "      <th>Id</th>\n",
       "      <th>Elevation</th>\n",
       "      <th>Aspect</th>\n",
       "      <th>Slope</th>\n",
       "      <th>Horizontal_Distance_To_Hydrology</th>\n",
       "      <th>Vertical_Distance_To_Hydrology</th>\n",
       "      <th>Horizontal_Distance_To_Roadways</th>\n",
       "      <th>Hillshade_9am</th>\n",
       "      <th>Hillshade_Noon</th>\n",
       "      <th>Hillshade_3pm</th>\n",
       "      <th>...</th>\n",
       "      <th>Soil_Type23_22_32_33</th>\n",
       "      <th>Soil29_Area1</th>\n",
       "      <th>Soil3_Area4</th>\n",
       "      <th>Climate_Area2</th>\n",
       "      <th>Climate_Area4</th>\n",
       "      <th>Rock_Area1</th>\n",
       "      <th>Rock_Area3</th>\n",
       "      <th>Surface_Area1</th>\n",
       "      <th>Surface_Area2</th>\n",
       "      <th>Surface_Area4</th>\n",
       "    </tr>\n",
       "  </thead>\n",
       "  <tbody>\n",
       "    <tr>\n",
       "      <th>0</th>\n",
       "      <td>-1.000000</td>\n",
       "      <td>-0.214286</td>\n",
       "      <td>-0.382653</td>\n",
       "      <td>-1.000000</td>\n",
       "      <td>0.296578</td>\n",
       "      <td>-0.432432</td>\n",
       "      <td>-0.535193</td>\n",
       "      <td>0.025641</td>\n",
       "      <td>0.321429</td>\n",
       "      <td>0.163934</td>\n",
       "      <td>...</td>\n",
       "      <td>0.0</td>\n",
       "      <td>2.0</td>\n",
       "      <td>0.0</td>\n",
       "      <td>0.0</td>\n",
       "      <td>0.0</td>\n",
       "      <td>1.0</td>\n",
       "      <td>0.0</td>\n",
       "      <td>3.0</td>\n",
       "      <td>0.0</td>\n",
       "      <td>0.0</td>\n",
       "    </tr>\n",
       "    <tr>\n",
       "      <th>1</th>\n",
       "      <td>-0.999868</td>\n",
       "      <td>-0.222527</td>\n",
       "      <td>-0.357143</td>\n",
       "      <td>-1.083333</td>\n",
       "      <td>0.121673</td>\n",
       "      <td>-0.513514</td>\n",
       "      <td>-0.614874</td>\n",
       "      <td>0.000000</td>\n",
       "      <td>0.428571</td>\n",
       "      <td>0.213115</td>\n",
       "      <td>...</td>\n",
       "      <td>0.0</td>\n",
       "      <td>2.0</td>\n",
       "      <td>0.0</td>\n",
       "      <td>0.0</td>\n",
       "      <td>0.0</td>\n",
       "      <td>1.0</td>\n",
       "      <td>0.0</td>\n",
       "      <td>3.0</td>\n",
       "      <td>0.0</td>\n",
       "      <td>0.0</td>\n",
       "    </tr>\n",
       "    <tr>\n",
       "      <th>2</th>\n",
       "      <td>-0.999735</td>\n",
       "      <td>0.071429</td>\n",
       "      <td>0.066327</td>\n",
       "      <td>-0.500000</td>\n",
       "      <td>0.334601</td>\n",
       "      <td>0.445946</td>\n",
       "      <td>1.237716</td>\n",
       "      <td>0.358974</td>\n",
       "      <td>0.535714</td>\n",
       "      <td>-0.049180</td>\n",
       "      <td>...</td>\n",
       "      <td>0.0</td>\n",
       "      <td>1.0</td>\n",
       "      <td>0.0</td>\n",
       "      <td>0.0</td>\n",
       "      <td>0.0</td>\n",
       "      <td>1.0</td>\n",
       "      <td>0.0</td>\n",
       "      <td>1.0</td>\n",
       "      <td>0.0</td>\n",
       "      <td>0.0</td>\n",
       "    </tr>\n",
       "    <tr>\n",
       "      <th>3</th>\n",
       "      <td>-0.999603</td>\n",
       "      <td>0.045330</td>\n",
       "      <td>0.147959</td>\n",
       "      <td>0.250000</td>\n",
       "      <td>0.235741</td>\n",
       "      <td>1.162162</td>\n",
       "      <td>1.177955</td>\n",
       "      <td>0.461538</td>\n",
       "      <td>0.535714</td>\n",
       "      <td>-0.262295</td>\n",
       "      <td>...</td>\n",
       "      <td>0.0</td>\n",
       "      <td>1.0</td>\n",
       "      <td>0.0</td>\n",
       "      <td>0.0</td>\n",
       "      <td>0.0</td>\n",
       "      <td>1.0</td>\n",
       "      <td>0.0</td>\n",
       "      <td>3.0</td>\n",
       "      <td>0.0</td>\n",
       "      <td>0.0</td>\n",
       "    </tr>\n",
       "    <tr>\n",
       "      <th>4</th>\n",
       "      <td>-0.999471</td>\n",
       "      <td>-0.215659</td>\n",
       "      <td>-0.413265</td>\n",
       "      <td>-1.083333</td>\n",
       "      <td>-0.102662</td>\n",
       "      <td>-0.445946</td>\n",
       "      <td>-0.614210</td>\n",
       "      <td>0.000000</td>\n",
       "      <td>0.392857</td>\n",
       "      <td>0.196721</td>\n",
       "      <td>...</td>\n",
       "      <td>0.0</td>\n",
       "      <td>2.0</td>\n",
       "      <td>0.0</td>\n",
       "      <td>0.0</td>\n",
       "      <td>0.0</td>\n",
       "      <td>1.0</td>\n",
       "      <td>0.0</td>\n",
       "      <td>3.0</td>\n",
       "      <td>0.0</td>\n",
       "      <td>0.0</td>\n",
       "    </tr>\n",
       "  </tbody>\n",
       "</table>\n",
       "<p>5 rows × 58 columns</p>\n",
       "</div>"
      ],
      "text/plain": [
       "         Id  Elevation    Aspect     Slope  Horizontal_Distance_To_Hydrology  \\\n",
       "0 -1.000000  -0.214286 -0.382653 -1.000000                          0.296578   \n",
       "1 -0.999868  -0.222527 -0.357143 -1.083333                          0.121673   \n",
       "2 -0.999735   0.071429  0.066327 -0.500000                          0.334601   \n",
       "3 -0.999603   0.045330  0.147959  0.250000                          0.235741   \n",
       "4 -0.999471  -0.215659 -0.413265 -1.083333                         -0.102662   \n",
       "\n",
       "   Vertical_Distance_To_Hydrology  Horizontal_Distance_To_Roadways  \\\n",
       "0                       -0.432432                        -0.535193   \n",
       "1                       -0.513514                        -0.614874   \n",
       "2                        0.445946                         1.237716   \n",
       "3                        1.162162                         1.177955   \n",
       "4                       -0.445946                        -0.614210   \n",
       "\n",
       "   Hillshade_9am  Hillshade_Noon  Hillshade_3pm  ...  Soil_Type23_22_32_33  \\\n",
       "0       0.025641        0.321429       0.163934  ...                   0.0   \n",
       "1       0.000000        0.428571       0.213115  ...                   0.0   \n",
       "2       0.358974        0.535714      -0.049180  ...                   0.0   \n",
       "3       0.461538        0.535714      -0.262295  ...                   0.0   \n",
       "4       0.000000        0.392857       0.196721  ...                   0.0   \n",
       "\n",
       "   Soil29_Area1  Soil3_Area4  Climate_Area2  Climate_Area4  Rock_Area1  \\\n",
       "0           2.0          0.0            0.0            0.0         1.0   \n",
       "1           2.0          0.0            0.0            0.0         1.0   \n",
       "2           1.0          0.0            0.0            0.0         1.0   \n",
       "3           1.0          0.0            0.0            0.0         1.0   \n",
       "4           2.0          0.0            0.0            0.0         1.0   \n",
       "\n",
       "   Rock_Area3  Surface_Area1  Surface_Area2  Surface_Area4  \n",
       "0         0.0            3.0            0.0            0.0  \n",
       "1         0.0            3.0            0.0            0.0  \n",
       "2         0.0            1.0            0.0            0.0  \n",
       "3         0.0            3.0            0.0            0.0  \n",
       "4         0.0            3.0            0.0            0.0  \n",
       "\n",
       "[5 rows x 58 columns]"
      ]
     },
     "execution_count": 55,
     "metadata": {},
     "output_type": "execute_result"
    }
   ],
   "source": [
    "frst_cvr_scaled.head()"
   ]
  },
  {
   "cell_type": "code",
   "execution_count": 56,
   "id": "a151da17",
   "metadata": {},
   "outputs": [],
   "source": [
    "from sklearn.model_selection import train_test_split\n",
    "X_train,X_test,y_train,y_test = train_test_split(train_data, train_target, test_size = 0.3, random_state = 0)"
   ]
  },
  {
   "cell_type": "code",
   "execution_count": 57,
   "id": "e6b42c07",
   "metadata": {},
   "outputs": [],
   "source": [
    "X_train_scaled, X_test_scaled, y_train_scaled, y_test_scaled = train_test_split(frst_cvr_scaled,train_target,test_size = 0.3,\n",
    "                                                                               random_state = 0)"
   ]
  },
  {
   "cell_type": "code",
   "execution_count": null,
   "id": "55b2eeb6",
   "metadata": {},
   "outputs": [],
   "source": []
  },
  {
   "cell_type": "markdown",
   "id": "bb41b6e6",
   "metadata": {},
   "source": [
    "### Base Model without scaled_data"
   ]
  },
  {
   "cell_type": "code",
   "execution_count": 58,
   "id": "b9c8ed89",
   "metadata": {},
   "outputs": [],
   "source": [
    "import xgboost as XGB"
   ]
  },
  {
   "cell_type": "code",
   "execution_count": 59,
   "id": "50585ee4",
   "metadata": {},
   "outputs": [
    {
     "data": {
      "text/plain": [
       "<AxesSubplot:>"
      ]
     },
     "execution_count": 59,
     "metadata": {},
     "output_type": "execute_result"
    },
    {
     "data": {
      "image/png": "[encoded data removed]",
      "text/plain": [
       "<Figure size 864x864 with 2 Axes>"
      ]
     },
     "metadata": {},
     "output_type": "display_data"
    }
   ],
   "source": [
    "from sklearn.multioutput import MultiOutputClassifier\n",
    "from sklearn.metrics import accuracy_score, confusion_matrix, classification_report,f1_score\n",
    "base_model_1 = XGB.XGBClassifier(objective = \"muliti:softmax\", eval_metric = \"merror\")\n",
    "base_model_1.fit(X_train, y_train)\n",
    "\n",
    "sns.set({\"figure.figsize\":(12,12)})\n",
    "sns.heatmap(confusion_matrix(y_test, base_model_1.predict(X_test)))"
   ]
  },
  {
   "cell_type": "code",
   "execution_count": 60,
   "id": "0f458b0c",
   "metadata": {},
   "outputs": [
    {
     "name": "stdout",
     "output_type": "stream",
     "text": [
      "              precision    recall  f1-score   support\n",
      "\n",
      "           0       0.80      0.79      0.79       646\n",
      "           1       0.79      0.70      0.74       644\n",
      "           2       0.88      0.90      0.89       659\n",
      "           3       0.95      0.98      0.96       642\n",
      "           4       0.90      0.95      0.92       622\n",
      "           5       0.91      0.89      0.90       671\n",
      "           6       0.94      0.98      0.96       652\n",
      "\n",
      "    accuracy                           0.88      4536\n",
      "   macro avg       0.88      0.88      0.88      4536\n",
      "weighted avg       0.88      0.88      0.88      4536\n",
      "\n"
     ]
    }
   ],
   "source": [
    "print(classification_report(y_test, base_model_1.predict(X_test)))"
   ]
  },
  {
   "cell_type": "code",
   "execution_count": 61,
   "id": "408246a8",
   "metadata": {},
   "outputs": [
    {
     "name": "stdout",
     "output_type": "stream",
     "text": [
      "0.8822751322751323\n"
     ]
    }
   ],
   "source": [
    "print(accuracy_score(y_test, base_model_1.predict(X_test)))"
   ]
  },
  {
   "cell_type": "markdown",
   "id": "7f435b46",
   "metadata": {},
   "source": [
    "### Base model with scaled_data"
   ]
  },
  {
   "cell_type": "code",
   "execution_count": 62,
   "id": "a0478c13",
   "metadata": {},
   "outputs": [
    {
     "data": {
      "text/plain": [
       "<AxesSubplot:>"
      ]
     },
     "execution_count": 62,
     "metadata": {},
     "output_type": "execute_result"
    },
    {
     "data": {
      "image/png": "[encoded data removed]",
      "text/plain": [
       "<Figure size 864x864 with 2 Axes>"
      ]
     },
     "metadata": {},
     "output_type": "display_data"
    }
   ],
   "source": [
    "base_model_2 = XGB.XGBClassifier(objective = \"muliti:softmax\", eval_metric = \"merror\")\n",
    "base_model_2.fit(X_train_scaled, y_train_scaled)\n",
    "\n",
    "sns.set({\"figure.figsize\":(12,12)})\n",
    "sns.heatmap(confusion_matrix(y_test_scaled, base_model_2.predict(X_test_scaled)))"
   ]
  },
  {
   "cell_type": "code",
   "execution_count": 63,
   "id": "8a001d81",
   "metadata": {},
   "outputs": [
    {
     "name": "stdout",
     "output_type": "stream",
     "text": [
      "              precision    recall  f1-score   support\n",
      "\n",
      "           0       0.80      0.79      0.79       646\n",
      "           1       0.79      0.70      0.74       644\n",
      "           2       0.87      0.90      0.89       659\n",
      "           3       0.95      0.98      0.96       642\n",
      "           4       0.90      0.95      0.92       622\n",
      "           5       0.91      0.88      0.90       671\n",
      "           6       0.94      0.98      0.96       652\n",
      "\n",
      "    accuracy                           0.88      4536\n",
      "   macro avg       0.88      0.88      0.88      4536\n",
      "weighted avg       0.88      0.88      0.88      4536\n",
      "\n"
     ]
    }
   ],
   "source": [
    "print(classification_report(y_test_scaled, base_model_2.predict(X_test_scaled)))"
   ]
  },
  {
   "cell_type": "code",
   "execution_count": 64,
   "id": "62acb112",
   "metadata": {},
   "outputs": [
    {
     "name": "stdout",
     "output_type": "stream",
     "text": [
      "0.8820546737213404\n"
     ]
    }
   ],
   "source": [
    "print(accuracy_score(y_test_scaled, base_model_2.predict(X_test_scaled)))"
   ]
  },
  {
   "cell_type": "markdown",
   "id": "f52cba63",
   "metadata": {},
   "source": [
    "#### Given the nature of the f1_score, I decided to upsample the values of the classes with relatively lower f1_score in training data"
   ]
  },
  {
   "cell_type": "code",
   "execution_count": 65,
   "id": "1cb39670",
   "metadata": {},
   "outputs": [],
   "source": [
    "from imblearn.over_sampling import RandomOverSampler, SMOTE\n",
    "from imblearn.under_sampling import TomekLinks\n",
    "from imblearn.combine import SMOTETomek"
   ]
  },
  {
   "cell_type": "code",
   "execution_count": 66,
   "id": "45aeda13",
   "metadata": {},
   "outputs": [],
   "source": [
    "sampling_strategy = {5:2160,\n",
    "                     1:3500,\n",
    "                     0:2700,\n",
    "                     4:2160,\n",
    "                     3:2160,\n",
    "                     2:2160,\n",
    "                    6:2160}\n",
    "\n",
    "smote_tomek = SMOTETomek(smote = SMOTE(sampling_strategy = sampling_strategy), tomek = TomekLinks(\"majority\"), \n",
    "                         n_jobs = -1, random_state = 0)\n",
    "train_data_bal, train_target_bal = smote_tomek.fit_resample(X_train, y_train)"
   ]
  },
  {
   "cell_type": "code",
   "execution_count": null,
   "id": "1dbeed90",
   "metadata": {},
   "outputs": [],
   "source": [
    "# After oversampling the data, it was noticed that my score on the leaderboad changed significantly relative to when model \n",
    "# was trained on normal provided data which was further divided into training and validation."
   ]
  },
  {
   "cell_type": "markdown",
   "id": "5494e044",
   "metadata": {},
   "source": [
    "### XGBOOST Model"
   ]
  },
  {
   "cell_type": "code",
   "execution_count": 74,
   "id": "12f007b4",
   "metadata": {},
   "outputs": [],
   "source": [
    "parameters = {'learning_rate': np.arange(0.01,0.3,0.01),\n",
    "              'max_depth': range (2, 10, 1),\n",
    "              'n_estimators': range(100,500,100)}"
   ]
  },
  {
   "cell_type": "code",
   "execution_count": 75,
   "id": "b61c7146",
   "metadata": {},
   "outputs": [
    {
     "name": "stdout",
     "output_type": "stream",
     "text": [
      "[00:34:41] WARNING: C:/Users/Administrator/workspace/xgboost-win64_release_1.4.0/src/learner.cc:1095: Starting in XGBoost 1.3.0, the default evaluation metric used with the objective 'multi:softmax' was changed from 'merror' to 'mlogloss'. Explicitly set eval_metric if you'd like to restore the old behavior.\n"
     ]
    },
    {
     "data": {
      "text/plain": [
       "XGBRegressor(base_score=0.5, booster='gbtree', colsample_bylevel=1,\n",
       "             colsample_bynode=1, colsample_bytree=1, gamma=0, gpu_id=-1,\n",
       "             importance_type='gain', interaction_constraints='',\n",
       "             learning_rate=0.23, max_delta_step=0, max_depth=9,\n",
       "             min_child_weight=1, missing=nan, monotone_constraints='()',\n",
       "             n_estimators=400, n_jobs=4, num_class=7, num_parallel_tree=1,\n",
       "             objective='multi:softmax', random_state=0, reg_alpha=0,\n",
       "             reg_lambda=1, scale_pos_weight=None, subsample=1,\n",
       "             tree_method='exact', validate_parameters=1, verbosity=None)"
      ]
     },
     "execution_count": 75,
     "metadata": {},
     "output_type": "execute_result"
    }
   ],
   "source": [
    "from sklearn.model_selection import RandomizedSearchCV, GridSearchCV\n",
    "tuned_xgb = RandomizedSearchCV(XGB.XGBRegressor(objective = \"multi:softmax\", random_state = 0, num_class = 7), \n",
    "                               param_distributions = parameters, cv = 5 , n_jobs = -1)\n",
    "tuned_xgb.fit(X_train, y_train)\n",
    "tuned_xgb.best_estimator_"
   ]
  },
  {
   "cell_type": "code",
   "execution_count": 76,
   "id": "166e928c",
   "metadata": {},
   "outputs": [],
   "source": [
    "from sklearn.model_selection import KFold, StratifiedKFold\n",
    "xgb_acc_list = []\n",
    "kf = KFold(n_splits=5, shuffle=True, random_state=1)\n",
    "skf = StratifiedKFold(n_splits = 10, shuffle = True, random_state = 0)\n",
    "\n",
    "for train_index, test_index in skf.split(train_data, train_target):\n",
    "    X_train_skf, X_test_skf = train_data.loc[train_index], train_data.loc[test_index]\n",
    "    y_train_skf, y_test_skf = train_target.loc[train_index], train_target.loc[test_index]\n",
    "    \n",
    "    xgboost = XGB.XGBClassifier(n_estimators = 500, max_depth = 10, learning_rate = 0.1, n_jobs = -1, random_state = 0,\n",
    "                               objective = \"multi:softmax\", num_class = 7, eval_metric = \"merror\")\n",
    "    \n",
    "    xgboost.fit(train_data_bal, train_target_bal)\n",
    "    xgboost_pred = xgboost.predict(X_test_skf)\n",
    "\n",
    "    xgb_acc_list.append(accuracy_score(y_test_skf, xgboost_pred))"
   ]
  },
  {
   "cell_type": "code",
   "execution_count": 77,
   "id": "eee2838a",
   "metadata": {},
   "outputs": [
    {
     "data": {
      "text/plain": [
       "0.9595899470899469"
      ]
     },
     "execution_count": 77,
     "metadata": {},
     "output_type": "execute_result"
    }
   ],
   "source": [
    "np.mean(xgb_acc_list)"
   ]
  },
  {
   "cell_type": "code",
   "execution_count": 101,
   "id": "1f331125",
   "metadata": {},
   "outputs": [
    {
     "ename": "NameError",
     "evalue": "name 'feature_name_' is not defined",
     "output_type": "error",
     "traceback": [
      "\u001b[1;31m---------------------------------------------------------------------------\u001b[0m",
      "\u001b[1;31mNameError\u001b[0m                                 Traceback (most recent call last)",
      "\u001b[1;32m<ipython-input-101-3a9124d8213a>\u001b[0m in \u001b[0;36m<module>\u001b[1;34m\u001b[0m\n\u001b[1;32m----> 1\u001b[1;33m \u001b[0msns\u001b[0m\u001b[1;33m.\u001b[0m\u001b[0mbarplot\u001b[0m\u001b[1;33m(\u001b[0m\u001b[0my\u001b[0m \u001b[1;33m=\u001b[0m \u001b[0mfeature_name_\u001b[0m\u001b[1;33m,\u001b[0m \u001b[0mx\u001b[0m \u001b[1;33m=\u001b[0m \u001b[0msort\u001b[0m\u001b[1;33m(\u001b[0m\u001b[0mxgboost\u001b[0m\u001b[1;33m.\u001b[0m\u001b[0mfeature_importances_\u001b[0m\u001b[1;33m)\u001b[0m \u001b[1;33m)\u001b[0m\u001b[1;33m\u001b[0m\u001b[1;33m\u001b[0m\u001b[0m\n\u001b[0m",
      "\u001b[1;31mNameError\u001b[0m: name 'feature_name_' is not defined"
     ]
    }
   ],
   "source": [
    "sns.barplot(y = feature_name_, x = sort(xgboost.feature_importances_) )"
   ]
  },
  {
   "cell_type": "code",
   "execution_count": 80,
   "id": "258f61fd",
   "metadata": {},
   "outputs": [],
   "source": [
    "xgb_acc_list_1 = []\n",
    "\n",
    "for train_index, test_index in skf.split(train_data, train_target):\n",
    "    X_train_skf, X_test_skf = train_data.loc[train_index], train_data.loc[test_index]\n",
    "    y_train_skf, y_test_skf = train_target.loc[train_index], train_target.loc[test_index]\n",
    "    \n",
    "    xgboost_1 = XGB.XGBClassifier(n_estimators = 500, max_depth = 10, learning_rate = 0.1, n_jobs = -1, random_state = 0,\n",
    "                               objective = \"multi:softmax\", num_class = 7, eval_metric = \"merror\")\n",
    "    \n",
    "    xgboost_1.fit(X_train_skf, y_train_skf)\n",
    "    xgboost_pred_1 = xgboost_1.predict(X_test_skf)\n",
    "\n",
    "    xgb_acc_list_1.append(accuracy_score(y_test_skf, xgboost_pred_1))"
   ]
  },
  {
   "cell_type": "code",
   "execution_count": 81,
   "id": "d8baa666",
   "metadata": {},
   "outputs": [
    {
     "data": {
      "text/plain": [
       "0.9021825396825397"
      ]
     },
     "execution_count": 81,
     "metadata": {},
     "output_type": "execute_result"
    }
   ],
   "source": [
    "np.mean(xgb_acc_list_1)"
   ]
  },
  {
   "cell_type": "markdown",
   "id": "21cb4111",
   "metadata": {},
   "source": [
    "### LightGBM Classifier"
   ]
  },
  {
   "cell_type": "code",
   "execution_count": null,
   "id": "b08ae5f8",
   "metadata": {},
   "outputs": [],
   "source": [
    "lgbm_parameters = {'learning_rate': np.arange(0.05,0.1,0.01),\n",
    "                  'max_depth': range (7, 10, 1),\n",
    "                  'num_leaves' : range(25,30),\n",
    "                  'n_estimators': range(600,800,50)}"
   ]
  },
  {
   "cell_type": "code",
   "execution_count": null,
   "id": "564cc347",
   "metadata": {},
   "outputs": [],
   "source": [
    "from sklearn.model_selection import RandomizedSearchCV, GridSearchCV\n",
    "tuned_lgbm = RandomizedSearchCV(LGBM.LGBMClassifier(objective = \"multiclass\", random_state = 0, num_class = 7), \n",
    "                               param_distributions = lgbm_parameters, cv = 5 , n_jobs = -1)\n",
    "tuned_lgbm.fit(X_train, y_train)\n",
    "tuned_lgbm.best_estimator_"
   ]
  },
  {
   "cell_type": "code",
   "execution_count": 82,
   "id": "528125b3",
   "metadata": {},
   "outputs": [],
   "source": [
    "import lightgbm as LGBM\n",
    "lgbm_acc_list = []\n",
    "  \n",
    "for train_index, test_index in skf.split(train_data, train_target):\n",
    "    X_train_skf, X_test_skf = train_data.loc[train_index], train_data.loc[test_index]\n",
    "    y_train_skf, y_test_skf = train_target.loc[train_index], train_target.loc[test_index]\n",
    "    \n",
    "    light_gbm = LGBM.LGBMClassifier(n_estimators = 700, max_depth = 9, learning_rate = 0.1, n_jobs = -1, random_state = 0,\n",
    "                               objective = \"multiclass\", num_class = 7, num_leaves = 31, boosting_type = \"gbdt\")\n",
    "    \n",
    "    light_gbm.fit(X_train_skf, y_train_skf)\n",
    "    lgbm_pred = light_gbm.predict(X_test_skf)\n",
    "\n",
    "    lgbm_acc_list.append(accuracy_score(y_test_skf, lgbm_pred))"
   ]
  },
  {
   "cell_type": "code",
   "execution_count": 83,
   "id": "e7ad6115",
   "metadata": {},
   "outputs": [
    {
     "data": {
      "text/plain": [
       "0.9018518518518519"
      ]
     },
     "execution_count": 83,
     "metadata": {},
     "output_type": "execute_result"
    }
   ],
   "source": [
    "np.mean(lgbm_acc_list)"
   ]
  },
  {
   "cell_type": "code",
   "execution_count": 84,
   "id": "03298493",
   "metadata": {},
   "outputs": [
    {
     "name": "stdout",
     "output_type": "stream",
     "text": [
      "              precision    recall  f1-score   support\n",
      "\n",
      "           0       0.83      0.78      0.80       216\n",
      "           1       0.80      0.77      0.78       216\n",
      "           2       0.90      0.92      0.91       216\n",
      "           3       0.95      0.97      0.96       216\n",
      "           4       0.92      0.97      0.94       216\n",
      "           5       0.94      0.94      0.94       216\n",
      "           6       0.96      0.97      0.97       216\n",
      "\n",
      "    accuracy                           0.90      1512\n",
      "   macro avg       0.90      0.90      0.90      1512\n",
      "weighted avg       0.90      0.90      0.90      1512\n",
      "\n"
     ]
    }
   ],
   "source": [
    "print(classification_report(y_test_skf, lgbm_pred))"
   ]
  },
  {
   "cell_type": "markdown",
   "id": "0455baf6",
   "metadata": {},
   "source": [
    "#### LGBM Classifier with upsampled data"
   ]
  },
  {
   "cell_type": "code",
   "execution_count": 85,
   "id": "5377b0b6",
   "metadata": {},
   "outputs": [],
   "source": [
    "lgbm_acc_list_up = []\n",
    "for train_index, test_index in skf.split(train_data_bal, train_target_bal):\n",
    "    X_train, X_test = train_data_bal.loc[train_index], train_data_bal.loc[test_index]\n",
    "    y_train, y_test = train_target_bal.loc[train_index], train_target_bal.loc[test_index]\n",
    "    \n",
    "    light_gbm_up = LGBM.LGBMClassifier(n_estimators = 700, max_depth = 9, learning_rate = 0.08, n_jobs = -1, random_state = 0,\n",
    "                               objective = \"multiclass\", num_class = 7, num_leaves = 31, boosting_type = \"gbdt\")\n",
    "    \n",
    "    light_gbm_up.fit(train_data_bal, train_target_bal)\n",
    "    lgbm_pred_up = light_gbm_up.predict(X_test_skf)\n",
    "\n",
    "    lgbm_acc_list_up.append(accuracy_score(y_test_skf, lgbm_pred_up))"
   ]
  },
  {
   "cell_type": "code",
   "execution_count": 86,
   "id": "b7aabbfe",
   "metadata": {},
   "outputs": [
    {
     "data": {
      "text/plain": [
       "0.957010582010582"
      ]
     },
     "execution_count": 86,
     "metadata": {},
     "output_type": "execute_result"
    }
   ],
   "source": [
    "np.mean(lgbm_acc_list_up)"
   ]
  },
  {
   "cell_type": "code",
   "execution_count": 87,
   "id": "9be98c9b",
   "metadata": {},
   "outputs": [
    {
     "name": "stdout",
     "output_type": "stream",
     "text": [
      "              precision    recall  f1-score   support\n",
      "\n",
      "           0       0.94      0.90      0.92       216\n",
      "           1       0.91      0.91      0.91       216\n",
      "           2       0.95      0.97      0.96       216\n",
      "           3       0.98      0.98      0.98       216\n",
      "           4       0.97      0.97      0.97       216\n",
      "           5       0.97      0.97      0.97       216\n",
      "           6       0.97      1.00      0.98       216\n",
      "\n",
      "    accuracy                           0.96      1512\n",
      "   macro avg       0.96      0.96      0.96      1512\n",
      "weighted avg       0.96      0.96      0.96      1512\n",
      "\n"
     ]
    }
   ],
   "source": [
    "print(classification_report(y_test_skf, lgbm_pred_up))"
   ]
  },
  {
   "cell_type": "code",
   "execution_count": 99,
   "id": "5a735a93",
   "metadata": {},
   "outputs": [
    {
     "data": {
      "text/plain": [
       "<AxesSubplot:>"
      ]
     },
     "execution_count": 99,
     "metadata": {},
     "output_type": "execute_result"
    },
    {
     "data": {
      "image/png": "[encoded data removed]",
      "text/plain": [
       "<Figure size 864x864 with 1 Axes>"
      ]
     },
     "metadata": {},
     "output_type": "display_data"
    }
   ],
   "source": [
    "sns.barplot(y = train_data.columns, x = light_gbm_up.feature_importances_, )"
   ]
  },
  {
   "cell_type": "code",
   "execution_count": 88,
   "id": "389d46de",
   "metadata": {},
   "outputs": [],
   "source": [
    "light_pred_train = light_gbm_up.predict(X_train_skf)\n",
    "train_list = []\n",
    "train_list.append(accuracy_score(y_train_skf, light_pred_train))"
   ]
  },
  {
   "cell_type": "code",
   "execution_count": 89,
   "id": "4e89d0ac",
   "metadata": {},
   "outputs": [
    {
     "data": {
      "text/plain": [
       "0.9607583774250441"
      ]
     },
     "execution_count": 89,
     "metadata": {},
     "output_type": "execute_result"
    }
   ],
   "source": [
    "np.mean(train_list)"
   ]
  },
  {
   "cell_type": "markdown",
   "id": "2669c0e6",
   "metadata": {},
   "source": [
    "### Light_GBM Predictions"
   ]
  },
  {
   "cell_type": "code",
   "execution_count": 90,
   "id": "1ad106c5",
   "metadata": {},
   "outputs": [],
   "source": [
    "prediction_test = light_gbm_up.predict(frst_cvr_test) + 1\n",
    "frst_pred_1 = pd.read_csv(r\"C:\\Users\\user\\Videos\\Datasets\\forest-cover-type-prediction\\sampleSubmission.csv\")\n",
    "frst_pred_1[\"Cover_Type\"] = prediction_test\n",
    "frst_pred_1.to_csv(\"frst_pred_1.csv\", index = False)"
   ]
  },
  {
   "cell_type": "code",
   "execution_count": 91,
   "id": "85243ecb",
   "metadata": {},
   "outputs": [
    {
     "data": {
      "text/plain": [
       "array([1, 2, 5, 7, 6, 3, 4], dtype=int64)"
      ]
     },
     "execution_count": 91,
     "metadata": {},
     "output_type": "execute_result"
    }
   ],
   "source": [
    "frst_pred_1[\"Cover_Type\"].unique()"
   ]
  },
  {
   "cell_type": "markdown",
   "id": "e4a9124e",
   "metadata": {},
   "source": [
    "### Extra Trees Classifier"
   ]
  },
  {
   "cell_type": "code",
   "execution_count": 92,
   "id": "c7174ba2",
   "metadata": {},
   "outputs": [
    {
     "name": "stdout",
     "output_type": "stream",
     "text": [
      "\n",
      "Model: ExtraTreesClassifier\n",
      "Train Accuracy: 0.91464\n"
     ]
    }
   ],
   "source": [
    "from sklearn.ensemble import ExtraTreesClassifier\n",
    "\n",
    "X_temp = train_data_bal\n",
    "X_test = frst_cvr_test\n",
    "y_temp = train_target_bal\n",
    "\n",
    "\n",
    "test_preds = np.zeros((X_test.shape[0],7))\n",
    "oof_preds = np.zeros((X_temp.shape[0],))\n",
    "fi_scores = np.zeros((X_temp.shape[1],))\n",
    "scores = np.zeros(12)\n",
    "\n",
    "skf = StratifiedKFold(n_splits = 12, shuffle = True, random_state = 0)\n",
    "for fold, (train_idx, valid_idx) in enumerate(skf.split(X_temp,y_temp)):\n",
    "       \n",
    "        # Training and Validation Sets\n",
    "        X_train, X_valid = X_temp.iloc[train_idx], X_temp.iloc[valid_idx]\n",
    "        y_train, y_valid = y_temp.iloc[train_idx], y_temp.iloc[valid_idx]\n",
    "        \n",
    "        # Create model\n",
    "        model = ExtraTreesClassifier(n_estimators = 118, min_samples_split = 2, max_features = 14,random_state = 0,\n",
    "            n_jobs = -1)\n",
    "        model.fit(X_train, y_train)\n",
    "        \n",
    "        valid_preds = np.ravel(model.predict(X_valid))\n",
    "        oof_preds[valid_idx] = valid_preds\n",
    "        test_preds += model.predict_proba(X_test)\n",
    "\n",
    "        \n",
    "        scores[fold] = accuracy_score(y_valid, valid_preds)\n",
    "    \n",
    "test_preds = np.argmax(test_preds, axis = 1)\n",
    "print('\\nModel: '+model.__class__.__name__)\n",
    "print(\"Train Accuracy:\", round(scores.mean(), 5))"
   ]
  },
  {
   "cell_type": "code",
   "execution_count": null,
   "id": "e5e54982",
   "metadata": {},
   "outputs": [],
   "source": [
    "# For trial purposes, the training dataset has about 15000 data points and \n",
    "# the test set which is to be predicted has about >500000 data spoints which makes it quite hard for the model \n",
    "# build to perform well on the test set. So I was thinking, if to try oversampling the data to that same scale, \n",
    "# so artificial data spoints are created and the model is able to learn robustly"
   ]
  },
  {
   "cell_type": "code",
   "execution_count": 100,
   "id": "34fd928a",
   "metadata": {},
   "outputs": [],
   "source": [
    "import pickle\n",
    "filename = 'Forest_cvr_type.pkl'\n",
    "pickle.dump(xgboost, open(filename, 'wb'))"
   ]
  },
  {
   "cell_type": "code",
   "execution_count": null,
   "id": "48268194",
   "metadata": {},
   "outputs": [],
   "source": []
  }
 ],
 "metadata": {
  "kernelspec": {
   "display_name": "Python 3",
   "language": "python",
   "name": "python3"
  }
 },
 "nbformat": 4,
 "nbformat_minor": 5
}
